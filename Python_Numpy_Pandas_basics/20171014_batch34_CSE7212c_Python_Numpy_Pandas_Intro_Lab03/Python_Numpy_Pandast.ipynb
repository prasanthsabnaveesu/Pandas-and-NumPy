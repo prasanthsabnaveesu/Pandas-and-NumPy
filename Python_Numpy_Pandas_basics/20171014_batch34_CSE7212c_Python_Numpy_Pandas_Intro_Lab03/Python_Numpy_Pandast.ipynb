{
 "cells": [
  {
   "cell_type": "markdown",
   "metadata": {},
   "source": [
    "* ** Numpy ** \n",
    "* ** Panadas **\n",
    "* ** Preprocessing ** \n",
    "\n",
    "\n",
    "* ** Practice & Excercise** (30 mins)\n",
    "\n",
    "\n",
    "## Instructions\n",
    "\n",
    "* Try to finish your code blocks as much as you can from the instructions but you are falling behind, move on to next section"
   ]
  },
  {
   "cell_type": "markdown",
   "metadata": {},
   "source": [
    "## Numpy\n",
    "* Core library for scientific computing in Python. \n",
    "* Provides a high performance multidimensional array objects and tools\n",
    "* <img src=\"numpyarray.png\" />"
   ]
  },
  {
   "cell_type": "code",
   "execution_count": 1,
   "metadata": {
    "collapsed": true
   },
   "outputs": [],
   "source": [
    "import numpy as np"
   ]
  },
  {
   "cell_type": "code",
   "execution_count": 8,
   "metadata": {},
   "outputs": [
    {
     "name": "stdout",
     "output_type": "stream",
     "text": [
      "[1 2 3]\n",
      "[[ 1.  2.  3.]\n",
      " [ 4.  7.  9.]]\n",
      "[[ 0.  0.  0.  0.]\n",
      " [ 0.  0.  0.  0.]\n",
      " [ 0.  0.  0.  0.]]\n",
      "[[ 1.  0.  0.]\n",
      " [ 0.  1.  0.]\n",
      " [ 0.  0.  1.]]\n"
     ]
    }
   ],
   "source": [
    "# create 1-D array 1,2,3\n",
    "# create 2-D array with two rows and data type float\n",
    "# Initialize array of size 3,4 with zeros\n",
    "#create identit matrix of 3X3\n",
    "\n",
    "a=np.array([1,2,3])\n",
    "b=np.array([[1,2,3],[4,7,9]],dtype=float)\n",
    "z=np.zeros((3,4))\n",
    "e=np.eye(3)\n",
    "\n",
    "print(a)\n",
    "print(b)\n",
    "print(z)\n",
    "print(e)\n"
   ]
  },
  {
   "cell_type": "code",
   "execution_count": 9,
   "metadata": {},
   "outputs": [
    {
     "name": "stdout",
     "output_type": "stream",
     "text": [
      "[10 15 20 25]\n",
      "[ 0.    0.25  0.5   0.75  1.    1.25  1.5   1.75  2.  ]\n",
      "[ 0.22520623  0.04934533  0.09047899  0.05503176  0.33134937]\n"
     ]
    },
    {
     "data": {
      "text/plain": [
       "array([[ 3.63460571,  2.90424248],\n",
       "       [ 3.96657581,  8.72010838],\n",
       "       [ 6.3924657 ,  5.89094648]])"
      ]
     },
     "execution_count": 9,
     "metadata": {},
     "output_type": "execute_result"
    }
   ],
   "source": [
    "#arange example\n",
    "#linspace exaxmple\n",
    "#use explicit print in each\n",
    "\n",
    "print(np.arange(10,26,5))\n",
    "print(np.linspace(0,2,9))\n",
    "print(np.random.random((5)))\n",
    "8 * np.random.random_sample((3, 2)) + 2 #generating random numbers between [2,10) ;`Unif[a, b), b > a` \n",
    "\n"
   ]
  },
  {
   "cell_type": "markdown",
   "metadata": {},
   "source": [
    "### Numpy Data Types"
   ]
  },
  {
   "cell_type": "code",
   "execution_count": 10,
   "metadata": {},
   "outputs": [
    {
     "name": "stdout",
     "output_type": "stream",
     "text": [
      "2\n",
      "2.78\n",
      "(3+4j)\n",
      "False\n",
      "True\n",
      "b'2.78'\n"
     ]
    }
   ],
   "source": [
    "#int64 and float32 on decimal number\n",
    "# complex number with real and imag part\n",
    "# boolean on zero and eight\n",
    "# string on some decimal number\n",
    "#use explicit printing for each\n",
    "\n",
    "print(np.int64(2.78))\n",
    "print(np.float32(2.78))\n",
    "print(np.complex(3,4))\n",
    "print(np.bool(0))\n",
    "print(np.bool(8))\n",
    "print(np.string_(2.78))"
   ]
  },
  {
   "cell_type": "markdown",
   "metadata": {},
   "source": [
    "### Basic inspecting operations"
   ]
  },
  {
   "cell_type": "code",
   "execution_count": 7,
   "metadata": {},
   "outputs": [
    {
     "name": "stdout",
     "output_type": "stream",
     "text": [
      "(2, 3)\n",
      "3\n",
      "2\n",
      "6\n",
      "2\n",
      "float64\n"
     ]
    },
    {
     "data": {
      "text/plain": [
       "dtype('int32')"
      ]
     },
     "execution_count": 7,
     "metadata": {},
     "output_type": "execute_result"
    }
   ],
   "source": [
    "# shape, len, ndim, size,dtype\n",
    "# use astype to convert to int and save in same variable\n",
    "# check new dtype of b \n",
    "print(b.shape)\n",
    "print(len(a))\n",
    "print(b.ndim)\n",
    "print(b.size)\n",
    "print(len(b))\n",
    "print(b.dtype)\n",
    "b=b.astype(int)\n",
    "b.dtype"
   ]
  },
  {
   "cell_type": "markdown",
   "metadata": {},
   "source": [
    "### Array operation\n"
   ]
  },
  {
   "cell_type": "code",
   "execution_count": 11,
   "metadata": {},
   "outputs": [
    {
     "name": "stdout",
     "output_type": "stream",
     "text": [
      "[1 2 3]\n",
      "[[1 2 3]\n",
      " [4 7 9]]\n",
      "[[ 2  4  6]\n",
      " [ 5  9 12]]\n",
      "[[ 0  0  0]\n",
      " [-3 -5 -6]]\n",
      "[[ 1  4  9]\n",
      " [ 4 14 27]]\n",
      "(2, 3)\n",
      "(3,)\n",
      "[1 2 3]\n",
      "[14 45]\n",
      "[14 45]\n"
     ]
    }
   ],
   "source": [
    "# add, subtract, multiply, shape, dot, matmul\n",
    "\n",
    "print(a)\n",
    "print(b)\n",
    "print(a+b)\n",
    "print(a-b)\n",
    "print(a*b)\n",
    "print(b.shape)\n",
    "print(a.shape)\n",
    "print(a)\n",
    "print(np.matmul(b,a))\n",
    "print(np.dot(b,a))"
   ]
  },
  {
   "cell_type": "markdown",
   "metadata": {},
   "source": [
    "## Student's activity\n",
    "** *take two numpy arrays each of six random elements,Check their shape and apply dot operation on them observe the output **"
   ]
  },
  {
   "cell_type": "code",
   "execution_count": 80,
   "metadata": {},
   "outputs": [
    {
     "name": "stdout",
     "output_type": "stream",
     "text": [
      "(1, 3)\n",
      "(3,)\n",
      "int32\n",
      "int32\n"
     ]
    }
   ],
   "source": [
    "\n",
    "\n"
   ]
  },
  {
   "cell_type": "markdown",
   "metadata": {},
   "source": [
    "### Some advanced array operations"
   ]
  },
  {
   "cell_type": "code",
   "execution_count": 15,
   "metadata": {
    "scrolled": true
   },
   "outputs": [
    {
     "name": "stdout",
     "output_type": "stream",
     "text": [
      "[[ 1.  2.]\n",
      " [ 3.  4.]]\n",
      "[[ 3.  4.  2.]\n",
      " [ 9.  5.  1.]]\n",
      "[[ 1.          1.41421356]\n",
      " [ 1.73205081  2.        ]]\n",
      "[[ 0.          0.69314718]\n",
      " [ 1.09861229  1.38629436]]\n",
      "10.0\n",
      "1.0\n",
      "9.0\n",
      "[[ 21.  14.   4.]\n",
      " [ 45.  32.  10.]]\n",
      "5\n"
     ]
    }
   ],
   "source": [
    "x=np.array([(1,2),(3,4)],dtype=float)\n",
    "y=np.array([(3,4,2),(9,5,1)],dtype=float)\n",
    "\n",
    "#  sqrt, log, sum, min, max,dot\n",
    "print(x)\n",
    "print(y)\n",
    "\n",
    "print(np.sqrt(x))\n",
    "print(np.log(x))\n",
    "print(np.sum(x))\n",
    "print(np.min(x))\n",
    "print(np.max(y))\n",
    "print(np.dot(x,y))\n",
    "\n",
    "a=np.array([1,2,3,4])\n",
    "b=np.array([1,0,0,1])\n",
    "print(np.dot(a,b))"
   ]
  },
  {
   "cell_type": "markdown",
   "metadata": {},
   "source": [
    "### Logical operations"
   ]
  },
  {
   "cell_type": "code",
   "execution_count": 16,
   "metadata": {},
   "outputs": [
    {
     "name": "stdout",
     "output_type": "stream",
     "text": [
      "[[ True False  True]\n",
      " [False False False]]\n",
      "[[False False  True]\n",
      " [ True  True  True]]\n",
      "[[1 2 9]\n",
      " [1 0 1]]\n",
      "[[ 1  7  9]\n",
      " [ 5 15 15]]\n"
     ]
    }
   ],
   "source": [
    "a=np.array([1,7,9])\n",
    "b=np.array([[1,2,9],[5,8,7]])\n",
    "\n",
    "print(a==b)\n",
    "print(b>4)\n",
    "print(a&b)\n",
    "print(a|b)"
   ]
  },
  {
   "cell_type": "markdown",
   "metadata": {},
   "source": [
    "### Subset and slicing"
   ]
  },
  {
   "cell_type": "code",
   "execution_count": 24,
   "metadata": {},
   "outputs": [
    {
     "name": "stdout",
     "output_type": "stream",
     "text": [
      "[[ 4  5 10]\n",
      " [ 5 10 15]\n",
      " [ 7  8  3]\n",
      " [ 4  6  9]\n",
      " [10 15 20]]\n",
      "[[15]\n",
      " [ 3]\n",
      " [ 9]\n",
      " [20]]\n",
      "[[ 5 10]\n",
      " [10 15]]\n",
      "[10 15  3  9 20]\n"
     ]
    }
   ],
   "source": [
    "# given the array c, get\n",
    "# get  second row \n",
    "# top right 2 X 2 matrix\n",
    "# get  third column \n",
    "\n",
    "c=np.array([[4,5,10],[5,10,15],[7,8,3],[4,6,9],[10,15,20]])\n",
    "#print(c.shape)\n",
    "#print(c)\n",
    "print(c[:,:])\n",
    "print(c[1: , 2: ])\n",
    "print(c[0:2,1:3])\n",
    "print(c[:,2])\n",
    "#print(c[[0,1,2,3,4],[2,2,2,2,2]])\n"
   ]
  },
  {
   "cell_type": "code",
   "execution_count": 25,
   "metadata": {},
   "outputs": [
    {
     "name": "stdout",
     "output_type": "stream",
     "text": [
      "200\n"
     ]
    }
   ],
   "source": [
    "a = np.array([1, 2, 3, 4, 5])\n",
    "b = a[1:4]\n",
    "b[0] = 200\n",
    "print(a[1])"
   ]
  },
  {
   "cell_type": "markdown",
   "metadata": {},
   "source": [
    "### Advantage of Numpy Arrays"
   ]
  },
  {
   "cell_type": "code",
   "execution_count": 26,
   "metadata": {
    "collapsed": true
   },
   "outputs": [],
   "source": [
    "import time\n",
    "size_of_vec = 100000\n"
   ]
  },
  {
   "cell_type": "code",
   "execution_count": 27,
   "metadata": {},
   "outputs": [
    {
     "data": {
      "text/plain": [
       "0.0407099723815918"
      ]
     },
     "execution_count": 27,
     "metadata": {},
     "output_type": "execute_result"
    }
   ],
   "source": [
    "t1 = time.time()\n",
    "X = range(size_of_vec)\n",
    "Y = range(size_of_vec)\n",
    "Z = []\n",
    "for i in range(len(X)):\n",
    "    Z.append(X[i] + Y[i])\n",
    "time.time() - t1\n",
    "#print(Z)"
   ]
  },
  {
   "cell_type": "code",
   "execution_count": 28,
   "metadata": {},
   "outputs": [
    {
     "data": {
      "text/plain": [
       "0.0"
      ]
     },
     "execution_count": 28,
     "metadata": {},
     "output_type": "execute_result"
    }
   ],
   "source": [
    "t1 = time.time()\n",
    "X = np.arange(size_of_vec)\n",
    "Y = np.arange(size_of_vec)\n",
    "Z = X + Y\n",
    "float(time.time() - t1)\n",
    "#print(Z)"
   ]
  },
  {
   "cell_type": "markdown",
   "metadata": {},
   "source": [
    "##### <font color='red'> Student Activity Question 6 [5 mins]</font>\n",
    "    * iris is a popular dataset often used in R and Python for learning data manipulation and visualization\n",
    "    * It has about 150 different measuremets of iris flower. \n",
    "    * Attributes which are measured are sepal length, sepal width, petal length and petal width\n",
    "    * you can load that dataset from popular ML library scikit learn using the code below (Copy or type the code in python cell block)\n",
    "\n",
    "```python\n",
    "from sklearn import datasets\n",
    "iris = datasets.load_iris()\n",
    "X = iris.data\n",
    "\n",
    "```\n",
    "**Questions**\n",
    "1. print shape and dimension of this array X\n",
    "2. Noting that first 2 columns are sepal data and last 2 columns are petal data, slice a sub-array whith only petal data and measuremets (rows) from 100 to 140. \n",
    "3. Call this submatrix as Xsub and print it explicitly in the cell block\n",
    "4. print explcitly shape of Xsub"
   ]
  },
  {
   "cell_type": "code",
   "execution_count": 35,
   "metadata": {},
   "outputs": [
    {
     "name": "stdout",
     "output_type": "stream",
     "text": [
      "(150, 4)\n",
      "(41, 2)\n"
     ]
    }
   ],
   "source": [
    "\n",
    "\n",
    "\n"
   ]
  },
  {
   "cell_type": "markdown",
   "metadata": {},
   "source": [
    "##### <font color='red'> Student Activity Question 7 [5 mins]</font>\n",
    "    \n",
    "**Questions**\n",
    "\n",
    "1) Create an arbitrary one dimensional array called \"v\".\n",
    "\n",
    "2) Create a new array which consists of the odd indices of previously created array \"v\".\n",
    "\n",
    "3) Create a new array in backwards ordering from v.  \n",
    "   \n",
    "4) Create a two dimensional array called \"m\".\n",
    "\n",
    "5) Create a new array from m, in which the elements of each row are in reverse order.\n",
    "\n",
    "6) Another one, where the rows are in reverse order.\n",
    "\n",
    "7) Create an array from m, where columns and rows are in reverse order.\n",
    "\n",
    "8) Cut of the first and last row and the first and last column."
   ]
  },
  {
   "cell_type": "code",
   "execution_count": 44,
   "metadata": {},
   "outputs": [
    {
     "name": "stdout",
     "output_type": "stream",
     "text": [
      "[ 3  8 12 18  7 11 30]\n",
      "[ 8 18 11]\n",
      "[30 11  7 18 12  8  3]\n",
      "[[11 12 13 14]\n",
      " [21 22 23 24]\n",
      " [31 32 33 34]]\n",
      "[[31 32 33 34]\n",
      " [21 22 23 24]\n",
      " [11 12 13 14]]\n",
      "[[34 33 32 31]\n",
      " [24 23 22 21]\n",
      " [14 13 12 11]]\n",
      "[[22 23]]\n"
     ]
    }
   ],
   "source": [
    "\n",
    "\n",
    "\n",
    "\n",
    "\n",
    "\n",
    "\n",
    "\n"
   ]
  },
  {
   "cell_type": "markdown",
   "metadata": {},
   "source": [
    "## Pandas DataFrame"
   ]
  },
  {
   "cell_type": "code",
   "execution_count": 199,
   "metadata": {
    "collapsed": true
   },
   "outputs": [],
   "source": [
    "import pandas as pd"
   ]
  },
  {
   "cell_type": "code",
   "execution_count": 321,
   "metadata": {},
   "outputs": [
    {
     "name": "stdout",
     "output_type": "stream",
     "text": [
      "(577, 18)\n",
      "[0, 1, 2, 3, 4, 5, 6, 7, 8, 9]\n"
     ]
    }
   ],
   "source": [
    "# reading a dtaframe\n",
    "data=pd.read_csv(\"matches.csv\")\n",
    "print(data.shape)\n",
    "print(list(data.index)[:10])"
   ]
  },
  {
   "cell_type": "code",
   "execution_count": 322,
   "metadata": {},
   "outputs": [
    {
     "name": "stdout",
     "output_type": "stream",
     "text": [
      "Index(['id', 'season', 'city', 'date', 'team1', 'team2', 'toss_winner',\n",
      "       'toss_decision', 'result', 'dl_applied', 'winner', 'win_by_runs',\n",
      "       'win_by_wickets', 'player_of_match', 'venue', 'umpire1', 'umpire2',\n",
      "       'umpire3'],\n",
      "      dtype='object')\n",
      "   id  season        city        date                  team1  \\\n",
      "0   1    2008   Bangalore  2008-04-18  Kolkata Knight Riders   \n",
      "1   2    2008  Chandigarh  2008-04-19    Chennai Super Kings   \n",
      "2   3    2008       Delhi  2008-04-19       Rajasthan Royals   \n",
      "3   4    2008      Mumbai  2008-04-20         Mumbai Indians   \n",
      "4   5    2008     Kolkata  2008-04-20        Deccan Chargers   \n",
      "\n",
      "                         team2                  toss_winner toss_decision  \\\n",
      "0  Royal Challengers Bangalore  Royal Challengers Bangalore         field   \n",
      "1              Kings XI Punjab          Chennai Super Kings           bat   \n",
      "2             Delhi Daredevils             Rajasthan Royals           bat   \n",
      "3  Royal Challengers Bangalore               Mumbai Indians           bat   \n",
      "4        Kolkata Knight Riders              Deccan Chargers           bat   \n",
      "\n",
      "   result  dl_applied                       winner  win_by_runs  \\\n",
      "0  normal           0        Kolkata Knight Riders          140   \n",
      "1  normal           0          Chennai Super Kings           33   \n",
      "2  normal           0             Delhi Daredevils            0   \n",
      "3  normal           0  Royal Challengers Bangalore            0   \n",
      "4  normal           0        Kolkata Knight Riders            0   \n",
      "\n",
      "   win_by_wickets player_of_match                                       venue  \\\n",
      "0               0     BB McCullum                       M Chinnaswamy Stadium   \n",
      "1               0      MEK Hussey  Punjab Cricket Association Stadium, Mohali   \n",
      "2               9     MF Maharoof                            Feroz Shah Kotla   \n",
      "3               5      MV Boucher                            Wankhede Stadium   \n",
      "4               5       DJ Hussey                                Eden Gardens   \n",
      "\n",
      "     umpire1         umpire2  umpire3  \n",
      "0  Asad Rauf     RE Koertzen      NaN  \n",
      "1  MR Benson      SL Shastri      NaN  \n",
      "2  Aleem Dar  GA Pratapkumar      NaN  \n",
      "3   SJ Davis       DJ Harper      NaN  \n",
      "4  BF Bowden     K Hariharan      NaN  \n"
     ]
    }
   ],
   "source": [
    "print(data.columns)\n",
    "print(data.head())"
   ]
  },
  {
   "cell_type": "code",
   "execution_count": 323,
   "metadata": {},
   "outputs": [
    {
     "name": "stdout",
     "output_type": "stream",
     "text": [
      "      id  season        date\n",
      "0      1    2008  2008-04-18\n",
      "1      2    2008  2008-04-19\n",
      "2      3    2008  2008-04-19\n",
      "3      4    2008  2008-04-20\n",
      "4      5    2008  2008-04-20\n",
      "5      6    2008  2008-04-21\n",
      "6      7    2008  2008-04-22\n",
      "7      8    2008  2008-04-23\n",
      "8      9    2008  2008-04-24\n",
      "9     10    2008  2008-04-25\n",
      "10    11    2008  2008-04-26\n",
      "11    12    2008  2008-04-26\n",
      "12    13    2008  2008-04-27\n",
      "13    14    2008  2008-04-27\n",
      "14    15    2008  2008-04-28\n",
      "15    16    2008  2008-04-29\n",
      "16    17    2008  2008-04-30\n",
      "17    18    2008  2008-05-01\n",
      "18    19    2008  2008-05-01\n",
      "19    20    2008  2008-05-02\n",
      "20    21    2008  2008-05-25\n",
      "21    22    2008  2008-05-03\n",
      "22    23    2008  2008-05-04\n",
      "23    24    2008  2008-05-04\n",
      "24    25    2008  2008-05-05\n",
      "25    26    2008  2008-05-06\n",
      "26    27    2008  2008-05-07\n",
      "27    28    2008  2008-05-08\n",
      "28    29    2008  2008-05-08\n",
      "29    30    2008  2008-05-09\n",
      "..   ...     ...         ...\n",
      "547  548    2016  2016-05-03\n",
      "548  549    2016  2016-05-04\n",
      "549  550    2016  2016-05-05\n",
      "550  551    2016  2016-05-06\n",
      "551  552    2016  2016-05-07\n",
      "552  553    2016  2016-05-07\n",
      "553  554    2016  2016-05-08\n",
      "554  555    2016  2016-05-08\n",
      "555  556    2016  2016-05-09\n",
      "556  557    2016  2016-05-10\n",
      "557  558    2016  2016-05-11\n",
      "558  559    2016  2016-05-12\n",
      "559  560    2016  2016-05-13\n",
      "560  561    2016  2016-05-14\n",
      "561  562    2016  2016-05-14\n",
      "562  563    2016  2016-05-15\n",
      "563  564    2016  2016-05-15\n",
      "564  565    2016  2016-05-16\n",
      "565  566    2016  2016-05-17\n",
      "566  567    2016  2016-05-18\n",
      "567  568    2016  2016-05-19\n",
      "568  569    2016  2016-05-20\n",
      "569  570    2016  2016-05-21\n",
      "570  571    2016  2016-05-21\n",
      "571  572    2016  2016-05-22\n",
      "572  573    2016  2016-05-22\n",
      "573  574    2016  2016-05-24\n",
      "574  575    2016  2016-05-25\n",
      "575  576    2016  2016-05-27\n",
      "576  577    2016  2016-05-29\n",
      "\n",
      "[577 rows x 3 columns]\n"
     ]
    }
   ],
   "source": [
    "#sub set on columns\n",
    "\n",
    "print(data[['id','season','date']])\n",
    "\n"
   ]
  },
  {
   "cell_type": "code",
   "execution_count": 324,
   "metadata": {},
   "outputs": [
    {
     "name": "stdout",
     "output_type": "stream",
     "text": [
      "[0, 1, 2, 3, 4, 5, 6, 7, 8, 9, 10, 11, 12, 13, 14, 15, 16, 17, 18, 19, 20, 21, 22, 23, 24, 25, 26, 27, 28, 29, 30, 31, 32, 33, 34, 35, 36, 37, 38, 39, 40, 41, 42, 43, 44, 45, 46, 47, 48, 49, 50, 51, 52, 53, 54, 55, 56, 57, 58, 59, 60, 61, 62, 63, 64, 65, 66, 67, 68, 69, 70, 71, 72, 73, 74, 75, 76, 77, 78, 79, 80, 81, 82, 83, 84, 85, 86, 87, 88, 89, 90, 91, 92, 93, 94, 95, 96, 97, 98, 99, 100, 101, 102, 103, 104, 105, 106, 107, 108, 109, 110, 111, 112, 113, 114, 115, 116, 117, 118, 119, 120, 121, 122, 123, 124, 125, 126, 127, 128, 129, 130, 131, 132, 133, 134, 135, 136, 137, 138, 139, 140, 141, 142, 143, 144, 145, 146, 147, 148, 149, 150, 151, 152, 153, 154, 155, 156, 157, 158, 159, 160, 161, 162, 163, 164, 165, 166, 167, 168, 169, 170, 171, 172, 173, 174, 175, 176, 177, 178, 179, 180, 181, 182, 183, 184, 185, 186, 187, 188, 189, 190, 191, 192, 193, 194, 195, 196, 197, 198, 199, 200, 201, 202, 203, 204, 205, 206, 207, 208, 209, 210, 211, 212, 213, 214, 215, 216, 217, 218, 219, 220, 221, 222, 223, 224, 225, 226, 227, 228, 229, 230, 231, 232, 233, 234, 235, 236, 237, 238, 239, 240, 241, 242, 243, 244, 245, 246, 247, 248, 249, 250, 251, 252, 253, 254, 255, 256, 257, 258, 259, 260, 261, 262, 263, 264, 265, 266, 267, 268, 269, 270, 271, 272, 273, 274, 275, 276, 277, 278, 279, 280, 281, 282, 283, 284, 285, 286, 287, 288, 289, 290, 291, 292, 293, 294, 295, 296, 297, 298, 299, 300, 301, 302, 303, 304, 305, 306, 307, 308, 309, 310, 311, 312, 313, 314, 315, 316, 317, 318, 319, 320, 321, 322, 323, 324, 325, 326, 327, 328, 329, 330, 331, 332, 333, 334, 335, 336, 337, 338, 339, 340, 341, 342, 343, 344, 345, 346, 347, 348, 349, 350, 351, 352, 353, 354, 355, 356, 357, 358, 359, 360, 361, 362, 363, 364, 365, 366, 367, 368, 369, 370, 371, 372, 373, 374, 375, 376, 377, 378, 379, 380, 381, 382, 383, 384, 385, 386, 387, 388, 389, 390, 391, 392, 393, 394, 395, 396, 397, 398, 399, 400, 401, 402, 403, 404, 405, 406, 407, 408, 409, 410, 411, 412, 413, 414, 415, 416, 417, 418, 419, 420, 421, 422, 423, 424, 425, 426, 427, 428, 429, 430, 431, 432, 433, 434, 435, 436, 437, 438, 439, 440, 441, 442, 443, 444, 445, 446, 447, 448, 449, 450, 451, 452, 453, 454, 455, 456, 457, 458, 459, 460, 461, 462, 463, 464, 465, 466, 467, 468, 469, 470, 471, 472, 473, 474, 475, 476, 477, 478, 479, 480, 481, 482, 483, 484, 485, 486, 487, 488, 489, 490, 491, 492, 493, 494, 495, 496, 497, 498, 499, 500, 501, 502, 503, 504, 505, 506, 507, 508, 509, 510, 511, 512, 513, 514, 515, 516, 517, 518, 519, 520, 521, 522, 523, 524, 525, 526, 527, 528, 529, 530, 531, 532, 533, 534, 535, 536, 537, 538, 539, 540, 541, 542, 543, 544, 545, 546, 547, 548, 549, 550, 551, 552, 553, 554, 555, 556, 557, 558, 559, 560, 561, 562, 563, 564, 565, 566, 567, 568, 569, 570, 571, 572, 573, 574, 575, 576]\n"
     ]
    },
    {
     "data": {
      "text/html": [
       "<div>\n",
       "<style>\n",
       "    .dataframe thead tr:only-child th {\n",
       "        text-align: right;\n",
       "    }\n",
       "\n",
       "    .dataframe thead th {\n",
       "        text-align: left;\n",
       "    }\n",
       "\n",
       "    .dataframe tbody tr th {\n",
       "        vertical-align: top;\n",
       "    }\n",
       "</style>\n",
       "<table border=\"1\" class=\"dataframe\">\n",
       "  <thead>\n",
       "    <tr style=\"text-align: right;\">\n",
       "      <th></th>\n",
       "      <th>id</th>\n",
       "      <th>season</th>\n",
       "      <th>city</th>\n",
       "      <th>date</th>\n",
       "      <th>team1</th>\n",
       "      <th>team2</th>\n",
       "      <th>toss_winner</th>\n",
       "      <th>toss_decision</th>\n",
       "      <th>result</th>\n",
       "      <th>dl_applied</th>\n",
       "      <th>winner</th>\n",
       "      <th>win_by_runs</th>\n",
       "      <th>win_by_wickets</th>\n",
       "      <th>player_of_match</th>\n",
       "      <th>venue</th>\n",
       "      <th>umpire1</th>\n",
       "      <th>umpire2</th>\n",
       "      <th>umpire3</th>\n",
       "    </tr>\n",
       "  </thead>\n",
       "  <tbody>\n",
       "    <tr>\n",
       "      <th>3</th>\n",
       "      <td>4</td>\n",
       "      <td>2008</td>\n",
       "      <td>Mumbai</td>\n",
       "      <td>2008-04-20</td>\n",
       "      <td>Mumbai Indians</td>\n",
       "      <td>Royal Challengers Bangalore</td>\n",
       "      <td>Mumbai Indians</td>\n",
       "      <td>bat</td>\n",
       "      <td>normal</td>\n",
       "      <td>0</td>\n",
       "      <td>Royal Challengers Bangalore</td>\n",
       "      <td>0</td>\n",
       "      <td>5</td>\n",
       "      <td>MV Boucher</td>\n",
       "      <td>Wankhede Stadium</td>\n",
       "      <td>SJ Davis</td>\n",
       "      <td>DJ Harper</td>\n",
       "      <td>NaN</td>\n",
       "    </tr>\n",
       "    <tr>\n",
       "      <th>4</th>\n",
       "      <td>5</td>\n",
       "      <td>2008</td>\n",
       "      <td>Kolkata</td>\n",
       "      <td>2008-04-20</td>\n",
       "      <td>Deccan Chargers</td>\n",
       "      <td>Kolkata Knight Riders</td>\n",
       "      <td>Deccan Chargers</td>\n",
       "      <td>bat</td>\n",
       "      <td>normal</td>\n",
       "      <td>0</td>\n",
       "      <td>Kolkata Knight Riders</td>\n",
       "      <td>0</td>\n",
       "      <td>5</td>\n",
       "      <td>DJ Hussey</td>\n",
       "      <td>Eden Gardens</td>\n",
       "      <td>BF Bowden</td>\n",
       "      <td>K Hariharan</td>\n",
       "      <td>NaN</td>\n",
       "    </tr>\n",
       "    <tr>\n",
       "      <th>5</th>\n",
       "      <td>6</td>\n",
       "      <td>2008</td>\n",
       "      <td>Jaipur</td>\n",
       "      <td>2008-04-21</td>\n",
       "      <td>Kings XI Punjab</td>\n",
       "      <td>Rajasthan Royals</td>\n",
       "      <td>Kings XI Punjab</td>\n",
       "      <td>bat</td>\n",
       "      <td>normal</td>\n",
       "      <td>0</td>\n",
       "      <td>Rajasthan Royals</td>\n",
       "      <td>0</td>\n",
       "      <td>6</td>\n",
       "      <td>SR Watson</td>\n",
       "      <td>Sawai Mansingh Stadium</td>\n",
       "      <td>Aleem Dar</td>\n",
       "      <td>RB Tiffin</td>\n",
       "      <td>NaN</td>\n",
       "    </tr>\n",
       "    <tr>\n",
       "      <th>6</th>\n",
       "      <td>7</td>\n",
       "      <td>2008</td>\n",
       "      <td>Hyderabad</td>\n",
       "      <td>2008-04-22</td>\n",
       "      <td>Deccan Chargers</td>\n",
       "      <td>Delhi Daredevils</td>\n",
       "      <td>Deccan Chargers</td>\n",
       "      <td>bat</td>\n",
       "      <td>normal</td>\n",
       "      <td>0</td>\n",
       "      <td>Delhi Daredevils</td>\n",
       "      <td>0</td>\n",
       "      <td>9</td>\n",
       "      <td>V Sehwag</td>\n",
       "      <td>Rajiv Gandhi International Stadium, Uppal</td>\n",
       "      <td>IL Howell</td>\n",
       "      <td>AM Saheba</td>\n",
       "      <td>NaN</td>\n",
       "    </tr>\n",
       "  </tbody>\n",
       "</table>\n",
       "</div>"
      ],
      "text/plain": [
       "   id  season       city        date            team1  \\\n",
       "3   4    2008     Mumbai  2008-04-20   Mumbai Indians   \n",
       "4   5    2008    Kolkata  2008-04-20  Deccan Chargers   \n",
       "5   6    2008     Jaipur  2008-04-21  Kings XI Punjab   \n",
       "6   7    2008  Hyderabad  2008-04-22  Deccan Chargers   \n",
       "\n",
       "                         team2      toss_winner toss_decision  result  \\\n",
       "3  Royal Challengers Bangalore   Mumbai Indians           bat  normal   \n",
       "4        Kolkata Knight Riders  Deccan Chargers           bat  normal   \n",
       "5             Rajasthan Royals  Kings XI Punjab           bat  normal   \n",
       "6             Delhi Daredevils  Deccan Chargers           bat  normal   \n",
       "\n",
       "   dl_applied                       winner  win_by_runs  win_by_wickets  \\\n",
       "3           0  Royal Challengers Bangalore            0               5   \n",
       "4           0        Kolkata Knight Riders            0               5   \n",
       "5           0             Rajasthan Royals            0               6   \n",
       "6           0             Delhi Daredevils            0               9   \n",
       "\n",
       "  player_of_match                                      venue    umpire1  \\\n",
       "3      MV Boucher                           Wankhede Stadium   SJ Davis   \n",
       "4       DJ Hussey                               Eden Gardens  BF Bowden   \n",
       "5       SR Watson                     Sawai Mansingh Stadium  Aleem Dar   \n",
       "6        V Sehwag  Rajiv Gandhi International Stadium, Uppal  IL Howell   \n",
       "\n",
       "       umpire2  umpire3  \n",
       "3    DJ Harper      NaN  \n",
       "4  K Hariharan      NaN  \n",
       "5    RB Tiffin      NaN  \n",
       "6    AM Saheba      NaN  "
      ]
     },
     "execution_count": 324,
     "metadata": {},
     "output_type": "execute_result"
    }
   ],
   "source": [
    "# loc works on labels in the index\n",
    "print(list(data.index))\n",
    "data.loc[3:6]\n"
   ]
  },
  {
   "cell_type": "code",
   "execution_count": 325,
   "metadata": {},
   "outputs": [
    {
     "data": {
      "text/html": [
       "<div>\n",
       "<style>\n",
       "    .dataframe thead tr:only-child th {\n",
       "        text-align: right;\n",
       "    }\n",
       "\n",
       "    .dataframe thead th {\n",
       "        text-align: left;\n",
       "    }\n",
       "\n",
       "    .dataframe tbody tr th {\n",
       "        vertical-align: top;\n",
       "    }\n",
       "</style>\n",
       "<table border=\"1\" class=\"dataframe\">\n",
       "  <thead>\n",
       "    <tr style=\"text-align: right;\">\n",
       "      <th></th>\n",
       "      <th>id</th>\n",
       "      <th>season</th>\n",
       "      <th>city</th>\n",
       "      <th>date</th>\n",
       "      <th>team1</th>\n",
       "      <th>team2</th>\n",
       "      <th>toss_winner</th>\n",
       "      <th>toss_decision</th>\n",
       "      <th>result</th>\n",
       "      <th>dl_applied</th>\n",
       "      <th>winner</th>\n",
       "      <th>win_by_runs</th>\n",
       "      <th>win_by_wickets</th>\n",
       "      <th>player_of_match</th>\n",
       "      <th>venue</th>\n",
       "      <th>umpire1</th>\n",
       "      <th>umpire2</th>\n",
       "      <th>umpire3</th>\n",
       "    </tr>\n",
       "  </thead>\n",
       "  <tbody>\n",
       "    <tr>\n",
       "      <th>0</th>\n",
       "      <td>1</td>\n",
       "      <td>2008</td>\n",
       "      <td>Bangalore</td>\n",
       "      <td>2008-04-18</td>\n",
       "      <td>Kolkata Knight Riders</td>\n",
       "      <td>Royal Challengers Bangalore</td>\n",
       "      <td>Royal Challengers Bangalore</td>\n",
       "      <td>field</td>\n",
       "      <td>normal</td>\n",
       "      <td>0</td>\n",
       "      <td>Kolkata Knight Riders</td>\n",
       "      <td>140</td>\n",
       "      <td>0</td>\n",
       "      <td>BB McCullum</td>\n",
       "      <td>M Chinnaswamy Stadium</td>\n",
       "      <td>Asad Rauf</td>\n",
       "      <td>RE Koertzen</td>\n",
       "      <td>NaN</td>\n",
       "    </tr>\n",
       "    <tr>\n",
       "      <th>1</th>\n",
       "      <td>2</td>\n",
       "      <td>2008</td>\n",
       "      <td>Chandigarh</td>\n",
       "      <td>2008-04-19</td>\n",
       "      <td>Chennai Super Kings</td>\n",
       "      <td>Kings XI Punjab</td>\n",
       "      <td>Chennai Super Kings</td>\n",
       "      <td>bat</td>\n",
       "      <td>normal</td>\n",
       "      <td>0</td>\n",
       "      <td>Chennai Super Kings</td>\n",
       "      <td>33</td>\n",
       "      <td>0</td>\n",
       "      <td>MEK Hussey</td>\n",
       "      <td>Punjab Cricket Association Stadium, Mohali</td>\n",
       "      <td>MR Benson</td>\n",
       "      <td>SL Shastri</td>\n",
       "      <td>NaN</td>\n",
       "    </tr>\n",
       "    <tr>\n",
       "      <th>2</th>\n",
       "      <td>3</td>\n",
       "      <td>2008</td>\n",
       "      <td>Delhi</td>\n",
       "      <td>2008-04-19</td>\n",
       "      <td>Rajasthan Royals</td>\n",
       "      <td>Delhi Daredevils</td>\n",
       "      <td>Rajasthan Royals</td>\n",
       "      <td>bat</td>\n",
       "      <td>normal</td>\n",
       "      <td>0</td>\n",
       "      <td>Delhi Daredevils</td>\n",
       "      <td>0</td>\n",
       "      <td>9</td>\n",
       "      <td>MF Maharoof</td>\n",
       "      <td>Feroz Shah Kotla</td>\n",
       "      <td>Aleem Dar</td>\n",
       "      <td>GA Pratapkumar</td>\n",
       "      <td>NaN</td>\n",
       "    </tr>\n",
       "  </tbody>\n",
       "</table>\n",
       "</div>"
      ],
      "text/plain": [
       "   id  season        city        date                  team1  \\\n",
       "0   1    2008   Bangalore  2008-04-18  Kolkata Knight Riders   \n",
       "1   2    2008  Chandigarh  2008-04-19    Chennai Super Kings   \n",
       "2   3    2008       Delhi  2008-04-19       Rajasthan Royals   \n",
       "\n",
       "                         team2                  toss_winner toss_decision  \\\n",
       "0  Royal Challengers Bangalore  Royal Challengers Bangalore         field   \n",
       "1              Kings XI Punjab          Chennai Super Kings           bat   \n",
       "2             Delhi Daredevils             Rajasthan Royals           bat   \n",
       "\n",
       "   result  dl_applied                 winner  win_by_runs  win_by_wickets  \\\n",
       "0  normal           0  Kolkata Knight Riders          140               0   \n",
       "1  normal           0    Chennai Super Kings           33               0   \n",
       "2  normal           0       Delhi Daredevils            0               9   \n",
       "\n",
       "  player_of_match                                       venue    umpire1  \\\n",
       "0     BB McCullum                       M Chinnaswamy Stadium  Asad Rauf   \n",
       "1      MEK Hussey  Punjab Cricket Association Stadium, Mohali  MR Benson   \n",
       "2     MF Maharoof                            Feroz Shah Kotla  Aleem Dar   \n",
       "\n",
       "          umpire2  umpire3  \n",
       "0     RE Koertzen      NaN  \n",
       "1      SL Shastri      NaN  \n",
       "2  GA Pratapkumar      NaN  "
      ]
     },
     "execution_count": 325,
     "metadata": {},
     "output_type": "execute_result"
    }
   ],
   "source": [
    "# iloc works on the index of rows\n",
    "data.iloc[0:3]"
   ]
  },
  {
   "cell_type": "code",
   "execution_count": 326,
   "metadata": {},
   "outputs": [
    {
     "name": "stderr",
     "output_type": "stream",
     "text": [
      "C:\\Users\\Shiva\\Anaconda3\\lib\\site-packages\\ipykernel_launcher.py:2: DeprecationWarning: \n",
      ".ix is deprecated. Please use\n",
      ".loc for label based indexing or\n",
      ".iloc for positional indexing\n",
      "\n",
      "See the documentation here:\n",
      "http://pandas.pydata.org/pandas-docs/stable/indexing.html#ix-indexer-is-deprecated\n",
      "  \n"
     ]
    },
    {
     "data": {
      "text/html": [
       "<div>\n",
       "<style>\n",
       "    .dataframe thead tr:only-child th {\n",
       "        text-align: right;\n",
       "    }\n",
       "\n",
       "    .dataframe thead th {\n",
       "        text-align: left;\n",
       "    }\n",
       "\n",
       "    .dataframe tbody tr th {\n",
       "        vertical-align: top;\n",
       "    }\n",
       "</style>\n",
       "<table border=\"1\" class=\"dataframe\">\n",
       "  <thead>\n",
       "    <tr style=\"text-align: right;\">\n",
       "      <th></th>\n",
       "      <th>id</th>\n",
       "      <th>season</th>\n",
       "      <th>city</th>\n",
       "      <th>date</th>\n",
       "      <th>team1</th>\n",
       "      <th>team2</th>\n",
       "      <th>toss_winner</th>\n",
       "      <th>toss_decision</th>\n",
       "      <th>result</th>\n",
       "      <th>dl_applied</th>\n",
       "      <th>winner</th>\n",
       "      <th>win_by_runs</th>\n",
       "      <th>win_by_wickets</th>\n",
       "      <th>player_of_match</th>\n",
       "      <th>venue</th>\n",
       "      <th>umpire1</th>\n",
       "      <th>umpire2</th>\n",
       "      <th>umpire3</th>\n",
       "    </tr>\n",
       "  </thead>\n",
       "  <tbody>\n",
       "    <tr>\n",
       "      <th>2</th>\n",
       "      <td>3</td>\n",
       "      <td>2008</td>\n",
       "      <td>Delhi</td>\n",
       "      <td>2008-04-19</td>\n",
       "      <td>Rajasthan Royals</td>\n",
       "      <td>Delhi Daredevils</td>\n",
       "      <td>Rajasthan Royals</td>\n",
       "      <td>bat</td>\n",
       "      <td>normal</td>\n",
       "      <td>0</td>\n",
       "      <td>Delhi Daredevils</td>\n",
       "      <td>0</td>\n",
       "      <td>9</td>\n",
       "      <td>MF Maharoof</td>\n",
       "      <td>Feroz Shah Kotla</td>\n",
       "      <td>Aleem Dar</td>\n",
       "      <td>GA Pratapkumar</td>\n",
       "      <td>NaN</td>\n",
       "    </tr>\n",
       "    <tr>\n",
       "      <th>3</th>\n",
       "      <td>4</td>\n",
       "      <td>2008</td>\n",
       "      <td>Mumbai</td>\n",
       "      <td>2008-04-20</td>\n",
       "      <td>Mumbai Indians</td>\n",
       "      <td>Royal Challengers Bangalore</td>\n",
       "      <td>Mumbai Indians</td>\n",
       "      <td>bat</td>\n",
       "      <td>normal</td>\n",
       "      <td>0</td>\n",
       "      <td>Royal Challengers Bangalore</td>\n",
       "      <td>0</td>\n",
       "      <td>5</td>\n",
       "      <td>MV Boucher</td>\n",
       "      <td>Wankhede Stadium</td>\n",
       "      <td>SJ Davis</td>\n",
       "      <td>DJ Harper</td>\n",
       "      <td>NaN</td>\n",
       "    </tr>\n",
       "  </tbody>\n",
       "</table>\n",
       "</div>"
      ],
      "text/plain": [
       "   id  season    city        date             team1  \\\n",
       "2   3    2008   Delhi  2008-04-19  Rajasthan Royals   \n",
       "3   4    2008  Mumbai  2008-04-20    Mumbai Indians   \n",
       "\n",
       "                         team2       toss_winner toss_decision  result  \\\n",
       "2             Delhi Daredevils  Rajasthan Royals           bat  normal   \n",
       "3  Royal Challengers Bangalore    Mumbai Indians           bat  normal   \n",
       "\n",
       "   dl_applied                       winner  win_by_runs  win_by_wickets  \\\n",
       "2           0             Delhi Daredevils            0               9   \n",
       "3           0  Royal Challengers Bangalore            0               5   \n",
       "\n",
       "  player_of_match             venue    umpire1         umpire2  umpire3  \n",
       "2     MF Maharoof  Feroz Shah Kotla  Aleem Dar  GA Pratapkumar      NaN  \n",
       "3      MV Boucher  Wankhede Stadium   SJ Davis       DJ Harper      NaN  "
      ]
     },
     "execution_count": 326,
     "metadata": {},
     "output_type": "execute_result"
    }
   ],
   "source": [
    "#ix usually tries to behave like loc but falls back to behaving like iloc if the label is not in the index.\n",
    "data.ix[2:3]"
   ]
  },
  {
   "cell_type": "code",
   "execution_count": 327,
   "metadata": {
    "collapsed": true
   },
   "outputs": [],
   "source": [
    "#data.reset_index(inplace=True)\n",
    "data.set_index('date',inplace=True)"
   ]
  },
  {
   "cell_type": "code",
   "execution_count": 328,
   "metadata": {},
   "outputs": [
    {
     "data": {
      "text/html": [
       "<div>\n",
       "<style>\n",
       "    .dataframe thead tr:only-child th {\n",
       "        text-align: right;\n",
       "    }\n",
       "\n",
       "    .dataframe thead th {\n",
       "        text-align: left;\n",
       "    }\n",
       "\n",
       "    .dataframe tbody tr th {\n",
       "        vertical-align: top;\n",
       "    }\n",
       "</style>\n",
       "<table border=\"1\" class=\"dataframe\">\n",
       "  <thead>\n",
       "    <tr style=\"text-align: right;\">\n",
       "      <th></th>\n",
       "      <th>id</th>\n",
       "      <th>season</th>\n",
       "      <th>city</th>\n",
       "      <th>team1</th>\n",
       "      <th>team2</th>\n",
       "      <th>toss_winner</th>\n",
       "      <th>toss_decision</th>\n",
       "      <th>result</th>\n",
       "      <th>dl_applied</th>\n",
       "      <th>winner</th>\n",
       "      <th>win_by_runs</th>\n",
       "      <th>win_by_wickets</th>\n",
       "      <th>player_of_match</th>\n",
       "      <th>venue</th>\n",
       "      <th>umpire1</th>\n",
       "      <th>umpire2</th>\n",
       "      <th>umpire3</th>\n",
       "    </tr>\n",
       "    <tr>\n",
       "      <th>date</th>\n",
       "      <th></th>\n",
       "      <th></th>\n",
       "      <th></th>\n",
       "      <th></th>\n",
       "      <th></th>\n",
       "      <th></th>\n",
       "      <th></th>\n",
       "      <th></th>\n",
       "      <th></th>\n",
       "      <th></th>\n",
       "      <th></th>\n",
       "      <th></th>\n",
       "      <th></th>\n",
       "      <th></th>\n",
       "      <th></th>\n",
       "      <th></th>\n",
       "      <th></th>\n",
       "    </tr>\n",
       "  </thead>\n",
       "  <tbody>\n",
       "    <tr>\n",
       "      <th>2008-04-18</th>\n",
       "      <td>1</td>\n",
       "      <td>2008</td>\n",
       "      <td>Bangalore</td>\n",
       "      <td>Kolkata Knight Riders</td>\n",
       "      <td>Royal Challengers Bangalore</td>\n",
       "      <td>Royal Challengers Bangalore</td>\n",
       "      <td>field</td>\n",
       "      <td>normal</td>\n",
       "      <td>0</td>\n",
       "      <td>Kolkata Knight Riders</td>\n",
       "      <td>140</td>\n",
       "      <td>0</td>\n",
       "      <td>BB McCullum</td>\n",
       "      <td>M Chinnaswamy Stadium</td>\n",
       "      <td>Asad Rauf</td>\n",
       "      <td>RE Koertzen</td>\n",
       "      <td>NaN</td>\n",
       "    </tr>\n",
       "    <tr>\n",
       "      <th>2008-04-19</th>\n",
       "      <td>2</td>\n",
       "      <td>2008</td>\n",
       "      <td>Chandigarh</td>\n",
       "      <td>Chennai Super Kings</td>\n",
       "      <td>Kings XI Punjab</td>\n",
       "      <td>Chennai Super Kings</td>\n",
       "      <td>bat</td>\n",
       "      <td>normal</td>\n",
       "      <td>0</td>\n",
       "      <td>Chennai Super Kings</td>\n",
       "      <td>33</td>\n",
       "      <td>0</td>\n",
       "      <td>MEK Hussey</td>\n",
       "      <td>Punjab Cricket Association Stadium, Mohali</td>\n",
       "      <td>MR Benson</td>\n",
       "      <td>SL Shastri</td>\n",
       "      <td>NaN</td>\n",
       "    </tr>\n",
       "    <tr>\n",
       "      <th>2008-04-19</th>\n",
       "      <td>3</td>\n",
       "      <td>2008</td>\n",
       "      <td>Delhi</td>\n",
       "      <td>Rajasthan Royals</td>\n",
       "      <td>Delhi Daredevils</td>\n",
       "      <td>Rajasthan Royals</td>\n",
       "      <td>bat</td>\n",
       "      <td>normal</td>\n",
       "      <td>0</td>\n",
       "      <td>Delhi Daredevils</td>\n",
       "      <td>0</td>\n",
       "      <td>9</td>\n",
       "      <td>MF Maharoof</td>\n",
       "      <td>Feroz Shah Kotla</td>\n",
       "      <td>Aleem Dar</td>\n",
       "      <td>GA Pratapkumar</td>\n",
       "      <td>NaN</td>\n",
       "    </tr>\n",
       "    <tr>\n",
       "      <th>2008-04-20</th>\n",
       "      <td>4</td>\n",
       "      <td>2008</td>\n",
       "      <td>Mumbai</td>\n",
       "      <td>Mumbai Indians</td>\n",
       "      <td>Royal Challengers Bangalore</td>\n",
       "      <td>Mumbai Indians</td>\n",
       "      <td>bat</td>\n",
       "      <td>normal</td>\n",
       "      <td>0</td>\n",
       "      <td>Royal Challengers Bangalore</td>\n",
       "      <td>0</td>\n",
       "      <td>5</td>\n",
       "      <td>MV Boucher</td>\n",
       "      <td>Wankhede Stadium</td>\n",
       "      <td>SJ Davis</td>\n",
       "      <td>DJ Harper</td>\n",
       "      <td>NaN</td>\n",
       "    </tr>\n",
       "    <tr>\n",
       "      <th>2008-04-20</th>\n",
       "      <td>5</td>\n",
       "      <td>2008</td>\n",
       "      <td>Kolkata</td>\n",
       "      <td>Deccan Chargers</td>\n",
       "      <td>Kolkata Knight Riders</td>\n",
       "      <td>Deccan Chargers</td>\n",
       "      <td>bat</td>\n",
       "      <td>normal</td>\n",
       "      <td>0</td>\n",
       "      <td>Kolkata Knight Riders</td>\n",
       "      <td>0</td>\n",
       "      <td>5</td>\n",
       "      <td>DJ Hussey</td>\n",
       "      <td>Eden Gardens</td>\n",
       "      <td>BF Bowden</td>\n",
       "      <td>K Hariharan</td>\n",
       "      <td>NaN</td>\n",
       "    </tr>\n",
       "  </tbody>\n",
       "</table>\n",
       "</div>"
      ],
      "text/plain": [
       "            id  season        city                  team1  \\\n",
       "date                                                        \n",
       "2008-04-18   1    2008   Bangalore  Kolkata Knight Riders   \n",
       "2008-04-19   2    2008  Chandigarh    Chennai Super Kings   \n",
       "2008-04-19   3    2008       Delhi       Rajasthan Royals   \n",
       "2008-04-20   4    2008      Mumbai         Mumbai Indians   \n",
       "2008-04-20   5    2008     Kolkata        Deccan Chargers   \n",
       "\n",
       "                                  team2                  toss_winner  \\\n",
       "date                                                                   \n",
       "2008-04-18  Royal Challengers Bangalore  Royal Challengers Bangalore   \n",
       "2008-04-19              Kings XI Punjab          Chennai Super Kings   \n",
       "2008-04-19             Delhi Daredevils             Rajasthan Royals   \n",
       "2008-04-20  Royal Challengers Bangalore               Mumbai Indians   \n",
       "2008-04-20        Kolkata Knight Riders              Deccan Chargers   \n",
       "\n",
       "           toss_decision  result  dl_applied                       winner  \\\n",
       "date                                                                        \n",
       "2008-04-18         field  normal           0        Kolkata Knight Riders   \n",
       "2008-04-19           bat  normal           0          Chennai Super Kings   \n",
       "2008-04-19           bat  normal           0             Delhi Daredevils   \n",
       "2008-04-20           bat  normal           0  Royal Challengers Bangalore   \n",
       "2008-04-20           bat  normal           0        Kolkata Knight Riders   \n",
       "\n",
       "            win_by_runs  win_by_wickets player_of_match  \\\n",
       "date                                                      \n",
       "2008-04-18          140               0     BB McCullum   \n",
       "2008-04-19           33               0      MEK Hussey   \n",
       "2008-04-19            0               9     MF Maharoof   \n",
       "2008-04-20            0               5      MV Boucher   \n",
       "2008-04-20            0               5       DJ Hussey   \n",
       "\n",
       "                                                 venue    umpire1  \\\n",
       "date                                                                \n",
       "2008-04-18                       M Chinnaswamy Stadium  Asad Rauf   \n",
       "2008-04-19  Punjab Cricket Association Stadium, Mohali  MR Benson   \n",
       "2008-04-19                            Feroz Shah Kotla  Aleem Dar   \n",
       "2008-04-20                            Wankhede Stadium   SJ Davis   \n",
       "2008-04-20                                Eden Gardens  BF Bowden   \n",
       "\n",
       "                   umpire2  umpire3  \n",
       "date                                 \n",
       "2008-04-18     RE Koertzen      NaN  \n",
       "2008-04-19      SL Shastri      NaN  \n",
       "2008-04-19  GA Pratapkumar      NaN  \n",
       "2008-04-20       DJ Harper      NaN  \n",
       "2008-04-20     K Hariharan      NaN  "
      ]
     },
     "execution_count": 328,
     "metadata": {},
     "output_type": "execute_result"
    }
   ],
   "source": [
    "data.head()"
   ]
  },
  {
   "cell_type": "code",
   "execution_count": 330,
   "metadata": {},
   "outputs": [
    {
     "name": "stdout",
     "output_type": "stream",
     "text": [
      "            id  season        city                  team1  \\\n",
      "date                                                        \n",
      "2008-04-18   1    2008   Bangalore  Kolkata Knight Riders   \n",
      "2008-04-19   2    2008  Chandigarh    Chennai Super Kings   \n",
      "2008-04-19   3    2008       Delhi       Rajasthan Royals   \n",
      "2008-04-20   4    2008      Mumbai         Mumbai Indians   \n",
      "2008-04-20   5    2008     Kolkata        Deccan Chargers   \n",
      "\n",
      "                                  team2                  toss_winner  \\\n",
      "date                                                                   \n",
      "2008-04-18  Royal Challengers Bangalore  Royal Challengers Bangalore   \n",
      "2008-04-19              Kings XI Punjab          Chennai Super Kings   \n",
      "2008-04-19             Delhi Daredevils             Rajasthan Royals   \n",
      "2008-04-20  Royal Challengers Bangalore               Mumbai Indians   \n",
      "2008-04-20        Kolkata Knight Riders              Deccan Chargers   \n",
      "\n",
      "           toss_decision  result  dl_applied                       winner  \\\n",
      "date                                                                        \n",
      "2008-04-18         field  normal           0        Kolkata Knight Riders   \n",
      "2008-04-19           bat  normal           0          Chennai Super Kings   \n",
      "2008-04-19           bat  normal           0             Delhi Daredevils   \n",
      "2008-04-20           bat  normal           0  Royal Challengers Bangalore   \n",
      "2008-04-20           bat  normal           0        Kolkata Knight Riders   \n",
      "\n",
      "            win_by_runs  win_by_wickets player_of_match  \\\n",
      "date                                                      \n",
      "2008-04-18          140               0     BB McCullum   \n",
      "2008-04-19           33               0      MEK Hussey   \n",
      "2008-04-19            0               9     MF Maharoof   \n",
      "2008-04-20            0               5      MV Boucher   \n",
      "2008-04-20            0               5       DJ Hussey   \n",
      "\n",
      "                                                 venue    umpire1  \\\n",
      "date                                                                \n",
      "2008-04-18                       M Chinnaswamy Stadium  Asad Rauf   \n",
      "2008-04-19  Punjab Cricket Association Stadium, Mohali  MR Benson   \n",
      "2008-04-19                            Feroz Shah Kotla  Aleem Dar   \n",
      "2008-04-20                            Wankhede Stadium   SJ Davis   \n",
      "2008-04-20                                Eden Gardens  BF Bowden   \n",
      "\n",
      "                   umpire2  umpire3  \n",
      "date                                 \n",
      "2008-04-18     RE Koertzen      NaN  \n",
      "2008-04-19      SL Shastri      NaN  \n",
      "2008-04-19  GA Pratapkumar      NaN  \n",
      "2008-04-20       DJ Harper      NaN  \n",
      "2008-04-20     K Hariharan      NaN  \n"
     ]
    }
   ],
   "source": [
    "print(data.ix['2008-04-18':'2008-04-20'])\n"
   ]
  },
  {
   "cell_type": "code",
   "execution_count": 331,
   "metadata": {},
   "outputs": [
    {
     "data": {
      "text/html": [
       "<div>\n",
       "<style>\n",
       "    .dataframe thead tr:only-child th {\n",
       "        text-align: right;\n",
       "    }\n",
       "\n",
       "    .dataframe thead th {\n",
       "        text-align: left;\n",
       "    }\n",
       "\n",
       "    .dataframe tbody tr th {\n",
       "        vertical-align: top;\n",
       "    }\n",
       "</style>\n",
       "<table border=\"1\" class=\"dataframe\">\n",
       "  <thead>\n",
       "    <tr style=\"text-align: right;\">\n",
       "      <th></th>\n",
       "      <th>id</th>\n",
       "      <th>season</th>\n",
       "      <th>city</th>\n",
       "      <th>team1</th>\n",
       "      <th>team2</th>\n",
       "      <th>toss_winner</th>\n",
       "      <th>toss_decision</th>\n",
       "      <th>result</th>\n",
       "      <th>dl_applied</th>\n",
       "      <th>winner</th>\n",
       "      <th>win_by_runs</th>\n",
       "      <th>win_by_wickets</th>\n",
       "      <th>player_of_match</th>\n",
       "      <th>venue</th>\n",
       "      <th>umpire1</th>\n",
       "      <th>umpire2</th>\n",
       "      <th>umpire3</th>\n",
       "    </tr>\n",
       "    <tr>\n",
       "      <th>date</th>\n",
       "      <th></th>\n",
       "      <th></th>\n",
       "      <th></th>\n",
       "      <th></th>\n",
       "      <th></th>\n",
       "      <th></th>\n",
       "      <th></th>\n",
       "      <th></th>\n",
       "      <th></th>\n",
       "      <th></th>\n",
       "      <th></th>\n",
       "      <th></th>\n",
       "      <th></th>\n",
       "      <th></th>\n",
       "      <th></th>\n",
       "      <th></th>\n",
       "      <th></th>\n",
       "    </tr>\n",
       "  </thead>\n",
       "  <tbody>\n",
       "    <tr>\n",
       "      <th>2008-04-18</th>\n",
       "      <td>1</td>\n",
       "      <td>2008</td>\n",
       "      <td>Bangalore</td>\n",
       "      <td>Kolkata Knight Riders</td>\n",
       "      <td>Royal Challengers Bangalore</td>\n",
       "      <td>Royal Challengers Bangalore</td>\n",
       "      <td>field</td>\n",
       "      <td>normal</td>\n",
       "      <td>0</td>\n",
       "      <td>Kolkata Knight Riders</td>\n",
       "      <td>140</td>\n",
       "      <td>0</td>\n",
       "      <td>BB McCullum</td>\n",
       "      <td>M Chinnaswamy Stadium</td>\n",
       "      <td>Asad Rauf</td>\n",
       "      <td>RE Koertzen</td>\n",
       "      <td>NaN</td>\n",
       "    </tr>\n",
       "    <tr>\n",
       "      <th>2008-04-19</th>\n",
       "      <td>2</td>\n",
       "      <td>2008</td>\n",
       "      <td>Chandigarh</td>\n",
       "      <td>Chennai Super Kings</td>\n",
       "      <td>Kings XI Punjab</td>\n",
       "      <td>Chennai Super Kings</td>\n",
       "      <td>bat</td>\n",
       "      <td>normal</td>\n",
       "      <td>0</td>\n",
       "      <td>Chennai Super Kings</td>\n",
       "      <td>33</td>\n",
       "      <td>0</td>\n",
       "      <td>MEK Hussey</td>\n",
       "      <td>Punjab Cricket Association Stadium, Mohali</td>\n",
       "      <td>MR Benson</td>\n",
       "      <td>SL Shastri</td>\n",
       "      <td>NaN</td>\n",
       "    </tr>\n",
       "    <tr>\n",
       "      <th>2008-04-19</th>\n",
       "      <td>3</td>\n",
       "      <td>2008</td>\n",
       "      <td>Delhi</td>\n",
       "      <td>Rajasthan Royals</td>\n",
       "      <td>Delhi Daredevils</td>\n",
       "      <td>Rajasthan Royals</td>\n",
       "      <td>bat</td>\n",
       "      <td>normal</td>\n",
       "      <td>0</td>\n",
       "      <td>Delhi Daredevils</td>\n",
       "      <td>0</td>\n",
       "      <td>9</td>\n",
       "      <td>MF Maharoof</td>\n",
       "      <td>Feroz Shah Kotla</td>\n",
       "      <td>Aleem Dar</td>\n",
       "      <td>GA Pratapkumar</td>\n",
       "      <td>NaN</td>\n",
       "    </tr>\n",
       "    <tr>\n",
       "      <th>2008-04-20</th>\n",
       "      <td>4</td>\n",
       "      <td>2008</td>\n",
       "      <td>Mumbai</td>\n",
       "      <td>Mumbai Indians</td>\n",
       "      <td>Royal Challengers Bangalore</td>\n",
       "      <td>Mumbai Indians</td>\n",
       "      <td>bat</td>\n",
       "      <td>normal</td>\n",
       "      <td>0</td>\n",
       "      <td>Royal Challengers Bangalore</td>\n",
       "      <td>0</td>\n",
       "      <td>5</td>\n",
       "      <td>MV Boucher</td>\n",
       "      <td>Wankhede Stadium</td>\n",
       "      <td>SJ Davis</td>\n",
       "      <td>DJ Harper</td>\n",
       "      <td>NaN</td>\n",
       "    </tr>\n",
       "    <tr>\n",
       "      <th>2008-04-20</th>\n",
       "      <td>5</td>\n",
       "      <td>2008</td>\n",
       "      <td>Kolkata</td>\n",
       "      <td>Deccan Chargers</td>\n",
       "      <td>Kolkata Knight Riders</td>\n",
       "      <td>Deccan Chargers</td>\n",
       "      <td>bat</td>\n",
       "      <td>normal</td>\n",
       "      <td>0</td>\n",
       "      <td>Kolkata Knight Riders</td>\n",
       "      <td>0</td>\n",
       "      <td>5</td>\n",
       "      <td>DJ Hussey</td>\n",
       "      <td>Eden Gardens</td>\n",
       "      <td>BF Bowden</td>\n",
       "      <td>K Hariharan</td>\n",
       "      <td>NaN</td>\n",
       "    </tr>\n",
       "  </tbody>\n",
       "</table>\n",
       "</div>"
      ],
      "text/plain": [
       "            id  season        city                  team1  \\\n",
       "date                                                        \n",
       "2008-04-18   1    2008   Bangalore  Kolkata Knight Riders   \n",
       "2008-04-19   2    2008  Chandigarh    Chennai Super Kings   \n",
       "2008-04-19   3    2008       Delhi       Rajasthan Royals   \n",
       "2008-04-20   4    2008      Mumbai         Mumbai Indians   \n",
       "2008-04-20   5    2008     Kolkata        Deccan Chargers   \n",
       "\n",
       "                                  team2                  toss_winner  \\\n",
       "date                                                                   \n",
       "2008-04-18  Royal Challengers Bangalore  Royal Challengers Bangalore   \n",
       "2008-04-19              Kings XI Punjab          Chennai Super Kings   \n",
       "2008-04-19             Delhi Daredevils             Rajasthan Royals   \n",
       "2008-04-20  Royal Challengers Bangalore               Mumbai Indians   \n",
       "2008-04-20        Kolkata Knight Riders              Deccan Chargers   \n",
       "\n",
       "           toss_decision  result  dl_applied                       winner  \\\n",
       "date                                                                        \n",
       "2008-04-18         field  normal           0        Kolkata Knight Riders   \n",
       "2008-04-19           bat  normal           0          Chennai Super Kings   \n",
       "2008-04-19           bat  normal           0             Delhi Daredevils   \n",
       "2008-04-20           bat  normal           0  Royal Challengers Bangalore   \n",
       "2008-04-20           bat  normal           0        Kolkata Knight Riders   \n",
       "\n",
       "            win_by_runs  win_by_wickets player_of_match  \\\n",
       "date                                                      \n",
       "2008-04-18          140               0     BB McCullum   \n",
       "2008-04-19           33               0      MEK Hussey   \n",
       "2008-04-19            0               9     MF Maharoof   \n",
       "2008-04-20            0               5      MV Boucher   \n",
       "2008-04-20            0               5       DJ Hussey   \n",
       "\n",
       "                                                 venue    umpire1  \\\n",
       "date                                                                \n",
       "2008-04-18                       M Chinnaswamy Stadium  Asad Rauf   \n",
       "2008-04-19  Punjab Cricket Association Stadium, Mohali  MR Benson   \n",
       "2008-04-19                            Feroz Shah Kotla  Aleem Dar   \n",
       "2008-04-20                            Wankhede Stadium   SJ Davis   \n",
       "2008-04-20                                Eden Gardens  BF Bowden   \n",
       "\n",
       "                   umpire2  umpire3  \n",
       "date                                 \n",
       "2008-04-18     RE Koertzen      NaN  \n",
       "2008-04-19      SL Shastri      NaN  \n",
       "2008-04-19  GA Pratapkumar      NaN  \n",
       "2008-04-20       DJ Harper      NaN  \n",
       "2008-04-20     K Hariharan      NaN  "
      ]
     },
     "execution_count": 331,
     "metadata": {},
     "output_type": "execute_result"
    }
   ],
   "source": [
    "#data.loc['2008-04-18':'2008-04-20']\n",
    "#data.loc[0:5] #error\n",
    "#data.ix[0:2]\n",
    "data.iloc[0:5]"
   ]
  },
  {
   "cell_type": "code",
   "execution_count": 361,
   "metadata": {},
   "outputs": [
    {
     "data": {
      "text/html": [
       "<div>\n",
       "<style>\n",
       "    .dataframe thead tr:only-child th {\n",
       "        text-align: right;\n",
       "    }\n",
       "\n",
       "    .dataframe thead th {\n",
       "        text-align: left;\n",
       "    }\n",
       "\n",
       "    .dataframe tbody tr th {\n",
       "        vertical-align: top;\n",
       "    }\n",
       "</style>\n",
       "<table border=\"1\" class=\"dataframe\">\n",
       "  <thead>\n",
       "    <tr style=\"text-align: right;\">\n",
       "      <th></th>\n",
       "      <th>season</th>\n",
       "      <th>city</th>\n",
       "    </tr>\n",
       "    <tr>\n",
       "      <th>date</th>\n",
       "      <th></th>\n",
       "      <th></th>\n",
       "    </tr>\n",
       "  </thead>\n",
       "  <tbody>\n",
       "    <tr>\n",
       "      <th>2008-04-18</th>\n",
       "      <td>2008</td>\n",
       "      <td>Bangalore</td>\n",
       "    </tr>\n",
       "    <tr>\n",
       "      <th>2008-04-19</th>\n",
       "      <td>2008</td>\n",
       "      <td>Chandigarh</td>\n",
       "    </tr>\n",
       "    <tr>\n",
       "      <th>2008-04-19</th>\n",
       "      <td>2008</td>\n",
       "      <td>Delhi</td>\n",
       "    </tr>\n",
       "    <tr>\n",
       "      <th>2008-04-20</th>\n",
       "      <td>2008</td>\n",
       "      <td>Mumbai</td>\n",
       "    </tr>\n",
       "    <tr>\n",
       "      <th>2008-04-20</th>\n",
       "      <td>2008</td>\n",
       "      <td>Kolkata</td>\n",
       "    </tr>\n",
       "  </tbody>\n",
       "</table>\n",
       "</div>"
      ],
      "text/plain": [
       "            season        city\n",
       "date                          \n",
       "2008-04-18    2008   Bangalore\n",
       "2008-04-19    2008  Chandigarh\n",
       "2008-04-19    2008       Delhi\n",
       "2008-04-20    2008      Mumbai\n",
       "2008-04-20    2008     Kolkata"
      ]
     },
     "execution_count": 361,
     "metadata": {},
     "output_type": "execute_result"
    }
   ],
   "source": [
    "# subset by row and columns\n",
    "data.iloc[0:5][['season','city']]"
   ]
  },
  {
   "cell_type": "code",
   "execution_count": 362,
   "metadata": {},
   "outputs": [
    {
     "data": {
      "text/plain": [
       "Index(['2008-04-18', '2008-04-19', '2008-04-19', '2008-04-20', '2008-04-20',\n",
       "       '2008-04-21', '2008-04-22', '2008-04-23', '2008-04-24', '2008-04-25',\n",
       "       ...\n",
       "       '2016-05-19', '2016-05-20', '2016-05-21', '2016-05-21', '2016-05-22',\n",
       "       '2016-05-22', '2016-05-24', '2016-05-25', '2016-05-27', '2016-05-29'],\n",
       "      dtype='object', name='date', length=577)"
      ]
     },
     "execution_count": 362,
     "metadata": {},
     "output_type": "execute_result"
    }
   ],
   "source": [
    "data.index"
   ]
  },
  {
   "cell_type": "markdown",
   "metadata": {},
   "source": [
    "# Student activity\n",
    "\n",
    "#What matches are played on 2008-04-20 and who is the winner "
   ]
  },
  {
   "cell_type": "code",
   "execution_count": 363,
   "metadata": {},
   "outputs": [
    {
     "data": {
      "text/html": [
       "<div>\n",
       "<style>\n",
       "    .dataframe thead tr:only-child th {\n",
       "        text-align: right;\n",
       "    }\n",
       "\n",
       "    .dataframe thead th {\n",
       "        text-align: left;\n",
       "    }\n",
       "\n",
       "    .dataframe tbody tr th {\n",
       "        vertical-align: top;\n",
       "    }\n",
       "</style>\n",
       "<table border=\"1\" class=\"dataframe\">\n",
       "  <thead>\n",
       "    <tr style=\"text-align: right;\">\n",
       "      <th></th>\n",
       "      <th>team1</th>\n",
       "      <th>team2</th>\n",
       "      <th>winner</th>\n",
       "    </tr>\n",
       "    <tr>\n",
       "      <th>date</th>\n",
       "      <th></th>\n",
       "      <th></th>\n",
       "      <th></th>\n",
       "    </tr>\n",
       "  </thead>\n",
       "  <tbody>\n",
       "    <tr>\n",
       "      <th>2008-04-20</th>\n",
       "      <td>Mumbai Indians</td>\n",
       "      <td>Royal Challengers Bangalore</td>\n",
       "      <td>Royal Challengers Bangalore</td>\n",
       "    </tr>\n",
       "    <tr>\n",
       "      <th>2008-04-20</th>\n",
       "      <td>Deccan Chargers</td>\n",
       "      <td>Kolkata Knight Riders</td>\n",
       "      <td>Kolkata Knight Riders</td>\n",
       "    </tr>\n",
       "  </tbody>\n",
       "</table>\n",
       "</div>"
      ],
      "text/plain": [
       "                      team1                        team2  \\\n",
       "date                                                       \n",
       "2008-04-20   Mumbai Indians  Royal Challengers Bangalore   \n",
       "2008-04-20  Deccan Chargers        Kolkata Knight Riders   \n",
       "\n",
       "                                 winner  \n",
       "date                                     \n",
       "2008-04-20  Royal Challengers Bangalore  \n",
       "2008-04-20        Kolkata Knight Riders  "
      ]
     },
     "execution_count": 363,
     "metadata": {},
     "output_type": "execute_result"
    }
   ],
   "source": [
    "data.loc['2008-04-20'][['team1','team2','winner']]"
   ]
  },
  {
   "cell_type": "markdown",
   "metadata": {},
   "source": [
    "# Creating a Dataframe"
   ]
  },
  {
   "cell_type": "code",
   "execution_count": 365,
   "metadata": {},
   "outputs": [
    {
     "data": {
      "text/html": [
       "<div>\n",
       "<style>\n",
       "    .dataframe thead tr:only-child th {\n",
       "        text-align: right;\n",
       "    }\n",
       "\n",
       "    .dataframe thead th {\n",
       "        text-align: left;\n",
       "    }\n",
       "\n",
       "    .dataframe tbody tr th {\n",
       "        vertical-align: top;\n",
       "    }\n",
       "</style>\n",
       "<table border=\"1\" class=\"dataframe\">\n",
       "  <thead>\n",
       "    <tr style=\"text-align: right;\">\n",
       "      <th></th>\n",
       "    </tr>\n",
       "  </thead>\n",
       "  <tbody>\n",
       "  </tbody>\n",
       "</table>\n",
       "</div>"
      ],
      "text/plain": [
       "Empty DataFrame\n",
       "Columns: []\n",
       "Index: []"
      ]
     },
     "execution_count": 365,
     "metadata": {},
     "output_type": "execute_result"
    }
   ],
   "source": [
    "#creating a empty dataframe\n",
    "df=pd.DataFrame()\n",
    "df"
   ]
  },
  {
   "cell_type": "code",
   "execution_count": 374,
   "metadata": {},
   "outputs": [
    {
     "name": "stdout",
     "output_type": "stream",
     "text": [
      "     Name  Age\n",
      "0    Alex   10\n",
      "1     Bob   12\n",
      "2  Clarke   13\n"
     ]
    }
   ],
   "source": [
    "data = [['Alex',10],['Bob',12],['Clarke',13]]\n",
    "df = pd.DataFrame(data,columns=['Name','Age'])\n",
    "print(df)"
   ]
  },
  {
   "cell_type": "code",
   "execution_count": 376,
   "metadata": {},
   "outputs": [
    {
     "name": "stdout",
     "output_type": "stream",
     "text": [
      "    Age   Name\n",
      "0  28.0    Tom\n",
      "1  34.0   Jack\n",
      "2  29.0  Steve\n",
      "3  42.0  Ricky\n"
     ]
    }
   ],
   "source": [
    "import pandas as pd\n",
    "data = {'Name':['Tom', 'Jack', 'Steve', 'Ricky'],'Age':[28,34,29,42]}\n",
    "df = pd.DataFrame(data,dtype=float)\n",
    "print(df)"
   ]
  },
  {
   "cell_type": "code",
   "execution_count": 377,
   "metadata": {},
   "outputs": [
    {
     "name": "stdout",
     "output_type": "stream",
     "text": [
      "       Age   Name\n",
      "Tom     28    Tom\n",
      "Jack    34   Jack\n",
      "Steve   29  Steve\n",
      "Ricky   42  Ricky\n"
     ]
    }
   ],
   "source": [
    "import pandas as pd\n",
    "data = {'Name':['Tom', 'Jack', 'Steve', 'Ricky'],'Age':[28,34,29,42]}\n",
    "df = pd.DataFrame(data,index=['Tom', 'Jack', 'Steve', 'Ricky'])\n",
    "print(df)"
   ]
  },
  {
   "cell_type": "markdown",
   "metadata": {},
   "source": [
    "## adding and dropping rows/colums"
   ]
  },
  {
   "cell_type": "code",
   "execution_count": 397,
   "metadata": {},
   "outputs": [
    {
     "name": "stdout",
     "output_type": "stream",
     "text": [
      "      Age   Name\n",
      "Tom    28    Tom\n",
      "Jack   34   Jack\n",
      "Steve  29  Steve\n",
      "Ricky  42  Ricky\n",
      "A       A     45\n"
     ]
    },
    {
     "data": {
      "text/html": [
       "<div>\n",
       "<style>\n",
       "    .dataframe thead tr:only-child th {\n",
       "        text-align: right;\n",
       "    }\n",
       "\n",
       "    .dataframe thead th {\n",
       "        text-align: left;\n",
       "    }\n",
       "\n",
       "    .dataframe tbody tr th {\n",
       "        vertical-align: top;\n",
       "    }\n",
       "</style>\n",
       "<table border=\"1\" class=\"dataframe\">\n",
       "  <thead>\n",
       "    <tr style=\"text-align: right;\">\n",
       "      <th></th>\n",
       "      <th>Age</th>\n",
       "      <th>Name</th>\n",
       "    </tr>\n",
       "  </thead>\n",
       "  <tbody>\n",
       "    <tr>\n",
       "      <th>Tom</th>\n",
       "      <td>28</td>\n",
       "      <td>Tom</td>\n",
       "    </tr>\n",
       "    <tr>\n",
       "      <th>Jack</th>\n",
       "      <td>34</td>\n",
       "      <td>Jack</td>\n",
       "    </tr>\n",
       "    <tr>\n",
       "      <th>Steve</th>\n",
       "      <td>29</td>\n",
       "      <td>Steve</td>\n",
       "    </tr>\n",
       "    <tr>\n",
       "      <th>Ricky</th>\n",
       "      <td>42</td>\n",
       "      <td>Ricky</td>\n",
       "    </tr>\n",
       "  </tbody>\n",
       "</table>\n",
       "</div>"
      ],
      "text/plain": [
       "      Age   Name\n",
       "Tom    28    Tom\n",
       "Jack   34   Jack\n",
       "Steve  29  Steve\n",
       "Ricky  42  Ricky"
      ]
     },
     "execution_count": 397,
     "metadata": {},
     "output_type": "execute_result"
    }
   ],
   "source": [
    "df.ix['A']=['A',45]\n",
    "print(df)\n",
    "df.drop('A',axis=0)\n"
   ]
  },
  {
   "cell_type": "markdown",
   "metadata": {},
   "source": [
    "### Merging dataframes "
   ]
  },
  {
   "cell_type": "code",
   "execution_count": 399,
   "metadata": {},
   "outputs": [
    {
     "name": "stdout",
     "output_type": "stream",
     "text": [
      "    Ductile   YM   metal\n",
      "m1     True  200   steel\n",
      "m2     True  100  copper\n",
      "m3    False   50    wood\n",
      "     UTS (Mpa)  YM   metal\n",
      "me1        400  20   steel\n",
      "me2        300  10  copper\n",
      "me3         40   5    wood\n"
     ]
    }
   ],
   "source": [
    "df1=pd.DataFrame({'metal':['steel','copper','wood'],'YM':[200,100,50],'Ductile':[True,True,False]},index=['m1','m2','m3'])\n",
    "print(df1)\n",
    "df2=pd.DataFrame({'metal':['steel','copper','wood'],'UTS (Mpa)':[400,300,40], 'YM':[20,10,5]},index=['me1','me2','me3'])\n",
    "print(df2)"
   ]
  },
  {
   "cell_type": "code",
   "execution_count": 400,
   "metadata": {},
   "outputs": [
    {
     "data": {
      "text/html": [
       "<div>\n",
       "<style>\n",
       "    .dataframe thead tr:only-child th {\n",
       "        text-align: right;\n",
       "    }\n",
       "\n",
       "    .dataframe thead th {\n",
       "        text-align: left;\n",
       "    }\n",
       "\n",
       "    .dataframe tbody tr th {\n",
       "        vertical-align: top;\n",
       "    }\n",
       "</style>\n",
       "<table border=\"1\" class=\"dataframe\">\n",
       "  <thead>\n",
       "    <tr style=\"text-align: right;\">\n",
       "      <th></th>\n",
       "      <th>Ductile</th>\n",
       "      <th>UTS (Mpa)</th>\n",
       "      <th>YM</th>\n",
       "      <th>metal</th>\n",
       "    </tr>\n",
       "  </thead>\n",
       "  <tbody>\n",
       "    <tr>\n",
       "      <th>m1</th>\n",
       "      <td>True</td>\n",
       "      <td>NaN</td>\n",
       "      <td>200</td>\n",
       "      <td>steel</td>\n",
       "    </tr>\n",
       "    <tr>\n",
       "      <th>m2</th>\n",
       "      <td>True</td>\n",
       "      <td>NaN</td>\n",
       "      <td>100</td>\n",
       "      <td>copper</td>\n",
       "    </tr>\n",
       "    <tr>\n",
       "      <th>m3</th>\n",
       "      <td>False</td>\n",
       "      <td>NaN</td>\n",
       "      <td>50</td>\n",
       "      <td>wood</td>\n",
       "    </tr>\n",
       "    <tr>\n",
       "      <th>me1</th>\n",
       "      <td>NaN</td>\n",
       "      <td>400.0</td>\n",
       "      <td>20</td>\n",
       "      <td>steel</td>\n",
       "    </tr>\n",
       "    <tr>\n",
       "      <th>me2</th>\n",
       "      <td>NaN</td>\n",
       "      <td>300.0</td>\n",
       "      <td>10</td>\n",
       "      <td>copper</td>\n",
       "    </tr>\n",
       "    <tr>\n",
       "      <th>me3</th>\n",
       "      <td>NaN</td>\n",
       "      <td>40.0</td>\n",
       "      <td>5</td>\n",
       "      <td>wood</td>\n",
       "    </tr>\n",
       "  </tbody>\n",
       "</table>\n",
       "</div>"
      ],
      "text/plain": [
       "    Ductile  UTS (Mpa)   YM   metal\n",
       "m1     True        NaN  200   steel\n",
       "m2     True        NaN  100  copper\n",
       "m3    False        NaN   50    wood\n",
       "me1     NaN      400.0   20   steel\n",
       "me2     NaN      300.0   10  copper\n",
       "me3     NaN       40.0    5    wood"
      ]
     },
     "execution_count": 400,
     "metadata": {},
     "output_type": "execute_result"
    }
   ],
   "source": [
    "pd.concat([df1,df2])"
   ]
  },
  {
   "cell_type": "code",
   "execution_count": 404,
   "metadata": {},
   "outputs": [
    {
     "data": {
      "text/html": [
       "<div>\n",
       "<style>\n",
       "    .dataframe thead tr:only-child th {\n",
       "        text-align: right;\n",
       "    }\n",
       "\n",
       "    .dataframe thead th {\n",
       "        text-align: left;\n",
       "    }\n",
       "\n",
       "    .dataframe tbody tr th {\n",
       "        vertical-align: top;\n",
       "    }\n",
       "</style>\n",
       "<table border=\"1\" class=\"dataframe\">\n",
       "  <thead>\n",
       "    <tr style=\"text-align: right;\">\n",
       "      <th></th>\n",
       "      <th>Ductile</th>\n",
       "      <th>YM_x</th>\n",
       "      <th>metal</th>\n",
       "      <th>UTS (Mpa)</th>\n",
       "      <th>YM_y</th>\n",
       "    </tr>\n",
       "  </thead>\n",
       "  <tbody>\n",
       "    <tr>\n",
       "      <th>0</th>\n",
       "      <td>True</td>\n",
       "      <td>200</td>\n",
       "      <td>steel</td>\n",
       "      <td>400</td>\n",
       "      <td>20</td>\n",
       "    </tr>\n",
       "    <tr>\n",
       "      <th>1</th>\n",
       "      <td>True</td>\n",
       "      <td>100</td>\n",
       "      <td>copper</td>\n",
       "      <td>300</td>\n",
       "      <td>10</td>\n",
       "    </tr>\n",
       "    <tr>\n",
       "      <th>2</th>\n",
       "      <td>False</td>\n",
       "      <td>50</td>\n",
       "      <td>wood</td>\n",
       "      <td>40</td>\n",
       "      <td>5</td>\n",
       "    </tr>\n",
       "  </tbody>\n",
       "</table>\n",
       "</div>"
      ],
      "text/plain": [
       "   Ductile  YM_x   metal  UTS (Mpa)  YM_y\n",
       "0     True   200   steel        400    20\n",
       "1     True   100  copper        300    10\n",
       "2    False    50    wood         40     5"
      ]
     },
     "execution_count": 404,
     "metadata": {},
     "output_type": "execute_result"
    }
   ],
   "source": [
    "pd.merge(df1,df2,on='metal')"
   ]
  },
  {
   "cell_type": "code",
   "execution_count": 405,
   "metadata": {},
   "outputs": [
    {
     "data": {
      "text/html": [
       "<div>\n",
       "<style>\n",
       "    .dataframe thead tr:only-child th {\n",
       "        text-align: right;\n",
       "    }\n",
       "\n",
       "    .dataframe thead th {\n",
       "        text-align: left;\n",
       "    }\n",
       "\n",
       "    .dataframe tbody tr th {\n",
       "        vertical-align: top;\n",
       "    }\n",
       "</style>\n",
       "<table border=\"1\" class=\"dataframe\">\n",
       "  <thead>\n",
       "    <tr style=\"text-align: right;\">\n",
       "      <th></th>\n",
       "      <th>Ductile</th>\n",
       "      <th>YM_x</th>\n",
       "      <th>metal</th>\n",
       "      <th>UTS (Mpa)</th>\n",
       "      <th>YM_y</th>\n",
       "    </tr>\n",
       "  </thead>\n",
       "  <tbody>\n",
       "    <tr>\n",
       "      <th>0</th>\n",
       "      <td>True</td>\n",
       "      <td>200</td>\n",
       "      <td>steel</td>\n",
       "      <td>400</td>\n",
       "      <td>20</td>\n",
       "    </tr>\n",
       "    <tr>\n",
       "      <th>1</th>\n",
       "      <td>True</td>\n",
       "      <td>100</td>\n",
       "      <td>copper</td>\n",
       "      <td>300</td>\n",
       "      <td>10</td>\n",
       "    </tr>\n",
       "    <tr>\n",
       "      <th>2</th>\n",
       "      <td>False</td>\n",
       "      <td>50</td>\n",
       "      <td>wood</td>\n",
       "      <td>40</td>\n",
       "      <td>5</td>\n",
       "    </tr>\n",
       "  </tbody>\n",
       "</table>\n",
       "</div>"
      ],
      "text/plain": [
       "   Ductile  YM_x   metal  UTS (Mpa)  YM_y\n",
       "0     True   200   steel        400    20\n",
       "1     True   100  copper        300    10\n",
       "2    False    50    wood         40     5"
      ]
     },
     "execution_count": 405,
     "metadata": {},
     "output_type": "execute_result"
    }
   ],
   "source": [
    "pd.merge(df1,df2,on='metal',how='outer')"
   ]
  },
  {
   "cell_type": "code",
   "execution_count": 408,
   "metadata": {},
   "outputs": [
    {
     "data": {
      "text/html": [
       "<div>\n",
       "<style>\n",
       "    .dataframe thead tr:only-child th {\n",
       "        text-align: right;\n",
       "    }\n",
       "\n",
       "    .dataframe thead th {\n",
       "        text-align: left;\n",
       "    }\n",
       "\n",
       "    .dataframe tbody tr th {\n",
       "        vertical-align: top;\n",
       "    }\n",
       "</style>\n",
       "<table border=\"1\" class=\"dataframe\">\n",
       "  <thead>\n",
       "    <tr style=\"text-align: right;\">\n",
       "      <th></th>\n",
       "      <th>Ductile</th>\n",
       "      <th>YM_x</th>\n",
       "      <th>metal</th>\n",
       "      <th>UTS (Mpa)</th>\n",
       "      <th>YM_y</th>\n",
       "    </tr>\n",
       "  </thead>\n",
       "  <tbody>\n",
       "    <tr>\n",
       "      <th>0</th>\n",
       "      <td>True</td>\n",
       "      <td>200</td>\n",
       "      <td>steel</td>\n",
       "      <td>400</td>\n",
       "      <td>20</td>\n",
       "    </tr>\n",
       "    <tr>\n",
       "      <th>1</th>\n",
       "      <td>True</td>\n",
       "      <td>100</td>\n",
       "      <td>copper</td>\n",
       "      <td>300</td>\n",
       "      <td>10</td>\n",
       "    </tr>\n",
       "    <tr>\n",
       "      <th>2</th>\n",
       "      <td>False</td>\n",
       "      <td>50</td>\n",
       "      <td>wood</td>\n",
       "      <td>40</td>\n",
       "      <td>5</td>\n",
       "    </tr>\n",
       "  </tbody>\n",
       "</table>\n",
       "</div>"
      ],
      "text/plain": [
       "   Ductile  YM_x   metal  UTS (Mpa)  YM_y\n",
       "0     True   200   steel        400    20\n",
       "1     True   100  copper        300    10\n",
       "2    False    50    wood         40     5"
      ]
     },
     "execution_count": 408,
     "metadata": {},
     "output_type": "execute_result"
    }
   ],
   "source": [
    "pd.merge(df1,df2,on='metal',how='left')"
   ]
  },
  {
   "cell_type": "markdown",
   "metadata": {},
   "source": [
    "##### <font color='red'> Student Activity Question 7 [10 mins]</font>\n",
    "   * Following two data sets are taken from [Government of India Community Data repository](https://community.data.gov.in/)\n",
    "   * First data set (roads.csv) is state wise road length (in km) as of 2013\n",
    "   * second data set (accidents.csv) is stae wise accidents from 2006 to 2015\n",
    "   * Following set of tasks require multiple sets. Feel free to use more than 1 cell to complete all the tasks. \n",
    "  \n",
    "   \n",
    "** Questions **\n",
    "1. read roads.csv using pandas read_csv and save it in data frame called roads\n",
    "2. read road_accidents.csv and save it in dataframe called accidents\n",
    "3. print shape of each of the data frame  \n",
    "4. display head of each dataframe \n",
    "5. Use .drop attribute to remove the columns 'category' and 'total' from the dataframe (use inplace=True as the last argument). Also remember that all the columns which needs to be removed has to be passed as a list\n",
    "6. Since the roads data is from 2013, you are only interested in accidents in the year 2013, one year before and one year later. Hence subset the accidents with only 4 columns State/UTs, 2012,2013 and 204\n",
    "7. Merge both the dataframes on State/UTs with inner join since you are not interested in keeping lot of NaNs in this merge data"
   ]
  },
  {
   "cell_type": "code",
   "execution_count": 426,
   "metadata": {
    "collapsed": true
   },
   "outputs": [],
   "source": []
  },
  {
   "cell_type": "code",
   "execution_count": 414,
   "metadata": {},
   "outputs": [
    {
     "name": "stdout",
     "output_type": "stream",
     "text": [
      "(31, 4)\n",
      "(37, 11)\n"
     ]
    }
   ],
   "source": []
  },
  {
   "cell_type": "code",
   "execution_count": 418,
   "metadata": {},
   "outputs": [
    {
     "name": "stdout",
     "output_type": "stream",
     "text": [
      "  Category         States/UTs     Total  Surfaced\n",
      "0   States     Andhra Pradesh  168516.0     93573\n",
      "1   States  Arunachal Pradesh    5262.0      5262\n",
      "2   States              Assam  222087.0     27622\n",
      "3   States              Bihar  167579.0     94421\n",
      "4   States       Chhattisgarh   30295.0     30295\n",
      "          States/UTs     2006     2007     2008     2009     2010     2011  \\\n",
      "0     Andhra Pradesh  17468.0  18859.0  15320.0  17465.0  17996.0  19081.0   \n",
      "1  Arunachal Pradesh    177.0    110.0    212.0    138.0    165.0    140.0   \n",
      "2              Assam   2575.0   2579.0   2776.0   2938.0   3741.0   3951.0   \n",
      "3              Bihar   2048.0   2677.0   3661.0   3968.0   3908.0   4746.0   \n",
      "4       Chhattisgarh   5883.0   5492.0   5849.0   5616.0   6341.0   6402.0   \n",
      "\n",
      "      2012     2013  2014  2015  \n",
      "0  14578.0  17355.0  7815  7263  \n",
      "1    147.0    242.0   149   184  \n",
      "2   4174.0   4112.0  4186  4121  \n",
      "3   5124.0   4470.0  4580  4250  \n",
      "4   6183.0   5824.0  6049  6072  \n"
     ]
    }
   ],
   "source": []
  },
  {
   "cell_type": "code",
   "execution_count": 428,
   "metadata": {
    "collapsed": true
   },
   "outputs": [],
   "source": []
  },
  {
   "cell_type": "code",
   "execution_count": 439,
   "metadata": {},
   "outputs": [
    {
     "data": {
      "text/html": [
       "<div>\n",
       "<style>\n",
       "    .dataframe thead tr:only-child th {\n",
       "        text-align: right;\n",
       "    }\n",
       "\n",
       "    .dataframe thead th {\n",
       "        text-align: left;\n",
       "    }\n",
       "\n",
       "    .dataframe tbody tr th {\n",
       "        vertical-align: top;\n",
       "    }\n",
       "</style>\n",
       "<table border=\"1\" class=\"dataframe\">\n",
       "  <thead>\n",
       "    <tr style=\"text-align: right;\">\n",
       "      <th></th>\n",
       "      <th>States/UTs</th>\n",
       "      <th>Surfaced</th>\n",
       "    </tr>\n",
       "  </thead>\n",
       "  <tbody>\n",
       "    <tr>\n",
       "      <th>0</th>\n",
       "      <td>Andhra Pradesh</td>\n",
       "      <td>93573</td>\n",
       "    </tr>\n",
       "    <tr>\n",
       "      <th>1</th>\n",
       "      <td>Arunachal Pradesh</td>\n",
       "      <td>5262</td>\n",
       "    </tr>\n",
       "    <tr>\n",
       "      <th>2</th>\n",
       "      <td>Assam</td>\n",
       "      <td>27622</td>\n",
       "    </tr>\n",
       "    <tr>\n",
       "      <th>3</th>\n",
       "      <td>Bihar</td>\n",
       "      <td>94421</td>\n",
       "    </tr>\n",
       "    <tr>\n",
       "      <th>4</th>\n",
       "      <td>Chhattisgarh</td>\n",
       "      <td>30295</td>\n",
       "    </tr>\n",
       "    <tr>\n",
       "      <th>5</th>\n",
       "      <td>Goa</td>\n",
       "      <td>3221</td>\n",
       "    </tr>\n",
       "    <tr>\n",
       "      <th>6</th>\n",
       "      <td>Gujarat</td>\n",
       "      <td>50621</td>\n",
       "    </tr>\n",
       "    <tr>\n",
       "      <th>7</th>\n",
       "      <td>Haryana</td>\n",
       "      <td>4622</td>\n",
       "    </tr>\n",
       "    <tr>\n",
       "      <th>8</th>\n",
       "      <td>Himachal Pradesh</td>\n",
       "      <td>14714</td>\n",
       "    </tr>\n",
       "    <tr>\n",
       "      <th>9</th>\n",
       "      <td>Jammu &amp; Kashmir</td>\n",
       "      <td>12404</td>\n",
       "    </tr>\n",
       "    <tr>\n",
       "      <th>10</th>\n",
       "      <td>Jharkhand</td>\n",
       "      <td>17097</td>\n",
       "    </tr>\n",
       "    <tr>\n",
       "      <th>11</th>\n",
       "      <td>Karnataka</td>\n",
       "      <td>90260</td>\n",
       "    </tr>\n",
       "    <tr>\n",
       "      <th>12</th>\n",
       "      <td>Kerala</td>\n",
       "      <td>79354</td>\n",
       "    </tr>\n",
       "    <tr>\n",
       "      <th>13</th>\n",
       "      <td>Madhya Pradesh</td>\n",
       "      <td>75718</td>\n",
       "    </tr>\n",
       "    <tr>\n",
       "      <th>14</th>\n",
       "      <td>Maharashtra</td>\n",
       "      <td>193806</td>\n",
       "    </tr>\n",
       "    <tr>\n",
       "      <th>15</th>\n",
       "      <td>Manipur</td>\n",
       "      <td>3919</td>\n",
       "    </tr>\n",
       "    <tr>\n",
       "      <th>16</th>\n",
       "      <td>Meghalaya</td>\n",
       "      <td>1194</td>\n",
       "    </tr>\n",
       "    <tr>\n",
       "      <th>17</th>\n",
       "      <td>Mizoram</td>\n",
       "      <td>2561</td>\n",
       "    </tr>\n",
       "    <tr>\n",
       "      <th>18</th>\n",
       "      <td>Nagaland</td>\n",
       "      <td>10930</td>\n",
       "    </tr>\n",
       "    <tr>\n",
       "      <th>19</th>\n",
       "      <td>Odisha</td>\n",
       "      <td>213446</td>\n",
       "    </tr>\n",
       "    <tr>\n",
       "      <th>20</th>\n",
       "      <td>Punjab</td>\n",
       "      <td>62900</td>\n",
       "    </tr>\n",
       "    <tr>\n",
       "      <th>21</th>\n",
       "      <td>Rajasthan</td>\n",
       "      <td>67313</td>\n",
       "    </tr>\n",
       "    <tr>\n",
       "      <th>22</th>\n",
       "      <td>Sikkim</td>\n",
       "      <td>3343</td>\n",
       "    </tr>\n",
       "    <tr>\n",
       "      <th>23</th>\n",
       "      <td>Tamil Nadu</td>\n",
       "      <td>107803</td>\n",
       "    </tr>\n",
       "    <tr>\n",
       "      <th>24</th>\n",
       "      <td>Tripura</td>\n",
       "      <td>8976</td>\n",
       "    </tr>\n",
       "    <tr>\n",
       "      <th>25</th>\n",
       "      <td>Uttarakhand</td>\n",
       "      <td>6933</td>\n",
       "    </tr>\n",
       "    <tr>\n",
       "      <th>26</th>\n",
       "      <td>Uttar Pradesh</td>\n",
       "      <td>79446</td>\n",
       "    </tr>\n",
       "    <tr>\n",
       "      <th>27</th>\n",
       "      <td>West Bengal</td>\n",
       "      <td>38156</td>\n",
       "    </tr>\n",
       "    <tr>\n",
       "      <th>28</th>\n",
       "      <td>Andaman &amp; Nicobar Islands</td>\n",
       "      <td>111</td>\n",
       "    </tr>\n",
       "    <tr>\n",
       "      <th>29</th>\n",
       "      <td>Chandigarh</td>\n",
       "      <td>967</td>\n",
       "    </tr>\n",
       "    <tr>\n",
       "      <th>30</th>\n",
       "      <td>All India</td>\n",
       "      <td>1400988</td>\n",
       "    </tr>\n",
       "  </tbody>\n",
       "</table>\n",
       "</div>"
      ],
      "text/plain": [
       "                   States/UTs  Surfaced\n",
       "0              Andhra Pradesh     93573\n",
       "1           Arunachal Pradesh      5262\n",
       "2                       Assam     27622\n",
       "3                       Bihar     94421\n",
       "4                Chhattisgarh     30295\n",
       "5                         Goa      3221\n",
       "6                     Gujarat     50621\n",
       "7                     Haryana      4622\n",
       "8            Himachal Pradesh     14714\n",
       "9             Jammu & Kashmir     12404\n",
       "10                  Jharkhand     17097\n",
       "11                  Karnataka     90260\n",
       "12                     Kerala     79354\n",
       "13             Madhya Pradesh     75718\n",
       "14                Maharashtra    193806\n",
       "15                    Manipur      3919\n",
       "16                  Meghalaya      1194\n",
       "17                    Mizoram      2561\n",
       "18                   Nagaland     10930\n",
       "19                     Odisha    213446\n",
       "20                     Punjab     62900\n",
       "21                  Rajasthan     67313\n",
       "22                     Sikkim      3343\n",
       "23                 Tamil Nadu    107803\n",
       "24                    Tripura      8976\n",
       "25                Uttarakhand      6933\n",
       "26              Uttar Pradesh     79446\n",
       "27                West Bengal     38156\n",
       "28  Andaman & Nicobar Islands       111\n",
       "29                 Chandigarh       967\n",
       "30                  All India   1400988"
      ]
     },
     "execution_count": 439,
     "metadata": {},
     "output_type": "execute_result"
    }
   ],
   "source": []
  },
  {
   "cell_type": "code",
   "execution_count": 431,
   "metadata": {
    "collapsed": true
   },
   "outputs": [],
   "source": []
  },
  {
   "cell_type": "code",
   "execution_count": 444,
   "metadata": {},
   "outputs": [
    {
     "data": {
      "text/html": [
       "<div>\n",
       "<style>\n",
       "    .dataframe thead tr:only-child th {\n",
       "        text-align: right;\n",
       "    }\n",
       "\n",
       "    .dataframe thead th {\n",
       "        text-align: left;\n",
       "    }\n",
       "\n",
       "    .dataframe tbody tr th {\n",
       "        vertical-align: top;\n",
       "    }\n",
       "</style>\n",
       "<table border=\"1\" class=\"dataframe\">\n",
       "  <thead>\n",
       "    <tr style=\"text-align: right;\">\n",
       "      <th></th>\n",
       "      <th>States/UTs</th>\n",
       "      <th>Surfaced</th>\n",
       "      <th>2012</th>\n",
       "      <th>2013</th>\n",
       "      <th>2014</th>\n",
       "    </tr>\n",
       "  </thead>\n",
       "  <tbody>\n",
       "    <tr>\n",
       "      <th>0</th>\n",
       "      <td>Andhra Pradesh</td>\n",
       "      <td>93573</td>\n",
       "      <td>14578.0</td>\n",
       "      <td>17355.0</td>\n",
       "      <td>7815</td>\n",
       "    </tr>\n",
       "    <tr>\n",
       "      <th>1</th>\n",
       "      <td>Arunachal Pradesh</td>\n",
       "      <td>5262</td>\n",
       "      <td>147.0</td>\n",
       "      <td>242.0</td>\n",
       "      <td>149</td>\n",
       "    </tr>\n",
       "    <tr>\n",
       "      <th>2</th>\n",
       "      <td>Assam</td>\n",
       "      <td>27622</td>\n",
       "      <td>4174.0</td>\n",
       "      <td>4112.0</td>\n",
       "      <td>4186</td>\n",
       "    </tr>\n",
       "    <tr>\n",
       "      <th>3</th>\n",
       "      <td>Bihar</td>\n",
       "      <td>94421</td>\n",
       "      <td>5124.0</td>\n",
       "      <td>4470.0</td>\n",
       "      <td>4580</td>\n",
       "    </tr>\n",
       "    <tr>\n",
       "      <th>4</th>\n",
       "      <td>Chhattisgarh</td>\n",
       "      <td>30295</td>\n",
       "      <td>6183.0</td>\n",
       "      <td>5824.0</td>\n",
       "      <td>6049</td>\n",
       "    </tr>\n",
       "    <tr>\n",
       "      <th>5</th>\n",
       "      <td>Goa</td>\n",
       "      <td>3221</td>\n",
       "      <td>1752.0</td>\n",
       "      <td>1920.0</td>\n",
       "      <td>1904</td>\n",
       "    </tr>\n",
       "    <tr>\n",
       "      <th>6</th>\n",
       "      <td>Gujarat</td>\n",
       "      <td>50621</td>\n",
       "      <td>10382.0</td>\n",
       "      <td>9434.0</td>\n",
       "      <td>8597</td>\n",
       "    </tr>\n",
       "    <tr>\n",
       "      <th>7</th>\n",
       "      <td>Haryana</td>\n",
       "      <td>4622</td>\n",
       "      <td>3221.0</td>\n",
       "      <td>3485.0</td>\n",
       "      <td>3628</td>\n",
       "    </tr>\n",
       "    <tr>\n",
       "      <th>8</th>\n",
       "      <td>Himachal Pradesh</td>\n",
       "      <td>14714</td>\n",
       "      <td>1012.0</td>\n",
       "      <td>1093.0</td>\n",
       "      <td>1138</td>\n",
       "    </tr>\n",
       "    <tr>\n",
       "      <th>9</th>\n",
       "      <td>Jammu &amp; Kashmir</td>\n",
       "      <td>12404</td>\n",
       "      <td>2540.0</td>\n",
       "      <td>2601.0</td>\n",
       "      <td>2421</td>\n",
       "    </tr>\n",
       "    <tr>\n",
       "      <th>10</th>\n",
       "      <td>Jharkhand</td>\n",
       "      <td>17097</td>\n",
       "      <td>2496.0</td>\n",
       "      <td>2546.0</td>\n",
       "      <td>2547</td>\n",
       "    </tr>\n",
       "    <tr>\n",
       "      <th>11</th>\n",
       "      <td>Karnataka</td>\n",
       "      <td>90260</td>\n",
       "      <td>17797.0</td>\n",
       "      <td>18541.0</td>\n",
       "      <td>16617</td>\n",
       "    </tr>\n",
       "    <tr>\n",
       "      <th>12</th>\n",
       "      <td>Kerala</td>\n",
       "      <td>79354</td>\n",
       "      <td>14147.0</td>\n",
       "      <td>13775.0</td>\n",
       "      <td>14171</td>\n",
       "    </tr>\n",
       "    <tr>\n",
       "      <th>13</th>\n",
       "      <td>Madhya Pradesh</td>\n",
       "      <td>75718</td>\n",
       "      <td>26726.0</td>\n",
       "      <td>26253.0</td>\n",
       "      <td>27474</td>\n",
       "    </tr>\n",
       "    <tr>\n",
       "      <th>14</th>\n",
       "      <td>Maharashtra</td>\n",
       "      <td>193806</td>\n",
       "      <td>38227.0</td>\n",
       "      <td>36069.0</td>\n",
       "      <td>36473</td>\n",
       "    </tr>\n",
       "    <tr>\n",
       "      <th>15</th>\n",
       "      <td>Manipur</td>\n",
       "      <td>3919</td>\n",
       "      <td>502.0</td>\n",
       "      <td>246.0</td>\n",
       "      <td>166</td>\n",
       "    </tr>\n",
       "    <tr>\n",
       "      <th>16</th>\n",
       "      <td>Meghalaya</td>\n",
       "      <td>1194</td>\n",
       "      <td>354.0</td>\n",
       "      <td>346.0</td>\n",
       "      <td>311</td>\n",
       "    </tr>\n",
       "    <tr>\n",
       "      <th>17</th>\n",
       "      <td>Mizoram</td>\n",
       "      <td>2561</td>\n",
       "      <td>47.0</td>\n",
       "      <td>46.0</td>\n",
       "      <td>70</td>\n",
       "    </tr>\n",
       "    <tr>\n",
       "      <th>18</th>\n",
       "      <td>Nagaland</td>\n",
       "      <td>10930</td>\n",
       "      <td>32.0</td>\n",
       "      <td>50.0</td>\n",
       "      <td>248</td>\n",
       "    </tr>\n",
       "    <tr>\n",
       "      <th>19</th>\n",
       "      <td>Odisha</td>\n",
       "      <td>213446</td>\n",
       "      <td>4378.0</td>\n",
       "      <td>4500.0</td>\n",
       "      <td>4405</td>\n",
       "    </tr>\n",
       "    <tr>\n",
       "      <th>20</th>\n",
       "      <td>Punjab</td>\n",
       "      <td>62900</td>\n",
       "      <td>2175.0</td>\n",
       "      <td>2404.0</td>\n",
       "      <td>2641</td>\n",
       "    </tr>\n",
       "    <tr>\n",
       "      <th>21</th>\n",
       "      <td>Rajasthan</td>\n",
       "      <td>67313</td>\n",
       "      <td>8407.0</td>\n",
       "      <td>8653.0</td>\n",
       "      <td>8964</td>\n",
       "    </tr>\n",
       "    <tr>\n",
       "      <th>22</th>\n",
       "      <td>Sikkim</td>\n",
       "      <td>3343</td>\n",
       "      <td>53.0</td>\n",
       "      <td>80.0</td>\n",
       "      <td>146</td>\n",
       "    </tr>\n",
       "    <tr>\n",
       "      <th>23</th>\n",
       "      <td>Tamil Nadu</td>\n",
       "      <td>107803</td>\n",
       "      <td>28224.0</td>\n",
       "      <td>27333.0</td>\n",
       "      <td>24869</td>\n",
       "    </tr>\n",
       "    <tr>\n",
       "      <th>24</th>\n",
       "      <td>Tripura</td>\n",
       "      <td>8976</td>\n",
       "      <td>377.0</td>\n",
       "      <td>398.0</td>\n",
       "      <td>325</td>\n",
       "    </tr>\n",
       "    <tr>\n",
       "      <th>25</th>\n",
       "      <td>Uttarakhand</td>\n",
       "      <td>6933</td>\n",
       "      <td>796.0</td>\n",
       "      <td>649.0</td>\n",
       "      <td>735</td>\n",
       "    </tr>\n",
       "    <tr>\n",
       "      <th>26</th>\n",
       "      <td>Uttar Pradesh</td>\n",
       "      <td>79446</td>\n",
       "      <td>15715.0</td>\n",
       "      <td>15964.0</td>\n",
       "      <td>18605</td>\n",
       "    </tr>\n",
       "    <tr>\n",
       "      <th>27</th>\n",
       "      <td>West Bengal</td>\n",
       "      <td>38156</td>\n",
       "      <td>6025.0</td>\n",
       "      <td>5694.0</td>\n",
       "      <td>6892</td>\n",
       "    </tr>\n",
       "    <tr>\n",
       "      <th>28</th>\n",
       "      <td>Andaman &amp; Nicobar Islands</td>\n",
       "      <td>111</td>\n",
       "      <td>74.0</td>\n",
       "      <td>61.0</td>\n",
       "      <td>131</td>\n",
       "    </tr>\n",
       "    <tr>\n",
       "      <th>29</th>\n",
       "      <td>Chandigarh</td>\n",
       "      <td>967</td>\n",
       "      <td>367.0</td>\n",
       "      <td>327.0</td>\n",
       "      <td>336</td>\n",
       "    </tr>\n",
       "    <tr>\n",
       "      <th>30</th>\n",
       "      <td>All India</td>\n",
       "      <td>1400988</td>\n",
       "      <td>223933.0</td>\n",
       "      <td>222883.0</td>\n",
       "      <td>226415</td>\n",
       "    </tr>\n",
       "  </tbody>\n",
       "</table>\n",
       "</div>"
      ],
      "text/plain": [
       "                   States/UTs  Surfaced      2012      2013    2014\n",
       "0              Andhra Pradesh     93573   14578.0   17355.0    7815\n",
       "1           Arunachal Pradesh      5262     147.0     242.0     149\n",
       "2                       Assam     27622    4174.0    4112.0    4186\n",
       "3                       Bihar     94421    5124.0    4470.0    4580\n",
       "4                Chhattisgarh     30295    6183.0    5824.0    6049\n",
       "5                         Goa      3221    1752.0    1920.0    1904\n",
       "6                     Gujarat     50621   10382.0    9434.0    8597\n",
       "7                     Haryana      4622    3221.0    3485.0    3628\n",
       "8            Himachal Pradesh     14714    1012.0    1093.0    1138\n",
       "9             Jammu & Kashmir     12404    2540.0    2601.0    2421\n",
       "10                  Jharkhand     17097    2496.0    2546.0    2547\n",
       "11                  Karnataka     90260   17797.0   18541.0   16617\n",
       "12                     Kerala     79354   14147.0   13775.0   14171\n",
       "13             Madhya Pradesh     75718   26726.0   26253.0   27474\n",
       "14                Maharashtra    193806   38227.0   36069.0   36473\n",
       "15                    Manipur      3919     502.0     246.0     166\n",
       "16                  Meghalaya      1194     354.0     346.0     311\n",
       "17                    Mizoram      2561      47.0      46.0      70\n",
       "18                   Nagaland     10930      32.0      50.0     248\n",
       "19                     Odisha    213446    4378.0    4500.0    4405\n",
       "20                     Punjab     62900    2175.0    2404.0    2641\n",
       "21                  Rajasthan     67313    8407.0    8653.0    8964\n",
       "22                     Sikkim      3343      53.0      80.0     146\n",
       "23                 Tamil Nadu    107803   28224.0   27333.0   24869\n",
       "24                    Tripura      8976     377.0     398.0     325\n",
       "25                Uttarakhand      6933     796.0     649.0     735\n",
       "26              Uttar Pradesh     79446   15715.0   15964.0   18605\n",
       "27                West Bengal     38156    6025.0    5694.0    6892\n",
       "28  Andaman & Nicobar Islands       111      74.0      61.0     131\n",
       "29                 Chandigarh       967     367.0     327.0     336\n",
       "30                  All India   1400988  223933.0  222883.0  226415"
      ]
     },
     "execution_count": 444,
     "metadata": {},
     "output_type": "execute_result"
    }
   ],
   "source": [
    "\n"
   ]
  },
  {
   "cell_type": "markdown",
   "metadata": {},
   "source": [
    "## Visualization Via MATPLOTLIB"
   ]
  },
  {
   "cell_type": "code",
   "execution_count": 447,
   "metadata": {
    "collapsed": true
   },
   "outputs": [],
   "source": [
    "## import matplotlib\n",
    "import matplotlib.pyplot as plt\n",
    "import numpy as np"
   ]
  },
  {
   "cell_type": "markdown",
   "metadata": {},
   "source": [
    "## Bar Chart"
   ]
  },
  {
   "cell_type": "code",
   "execution_count": 451,
   "metadata": {
    "collapsed": true
   },
   "outputs": [],
   "source": [
    "df=pd.read_csv(\"data/matches.csv\")\n",
    "# barplot on winnder data, rotate, fontsiz\n",
    "windata=df['winner'].value_counts()"
   ]
  },
  {
   "cell_type": "code",
   "execution_count": 453,
   "metadata": {},
   "outputs": [
    {
     "data": {
      "text/plain": [
       "Index(['Mumbai Indians', 'Chennai Super Kings', 'Royal Challengers Bangalore',\n",
       "       'Kolkata Knight Riders', 'Kings XI Punjab', 'Rajasthan Royals',\n",
       "       'Delhi Daredevils', 'Sunrisers Hyderabad', 'Deccan Chargers',\n",
       "       'Pune Warriors', 'Gujarat Lions', 'Kochi Tuskers Kerala',\n",
       "       'Rising Pune Supergiants'],\n",
       "      dtype='object')"
      ]
     },
     "execution_count": 453,
     "metadata": {},
     "output_type": "execute_result"
    }
   ],
   "source": [
    "windata\n",
    "windata.index"
   ]
  },
  {
   "cell_type": "code",
   "execution_count": 455,
   "metadata": {},
   "outputs": [
    {
     "name": "stdout",
     "output_type": "stream",
     "text": [
      "<memory at 0x000001776810ED08>\n"
     ]
    }
   ],
   "source": [
    "print(windata.data)"
   ]
  },
  {
   "cell_type": "code",
   "execution_count": 470,
   "metadata": {},
   "outputs": [
    {
     "data": {
      "text/plain": [
       "<matplotlib.figure.Figure at 0x177690b0048>"
      ]
     },
     "execution_count": 470,
     "metadata": {},
     "output_type": "execute_result"
    }
   ],
   "source": [
    "x=windata.index\n",
    "x1=range(len(x))\n",
    "y=windata.data\n",
    "plt.figure(figsize=(30,10))\n"
   ]
  },
  {
   "cell_type": "code",
   "execution_count": 471,
   "metadata": {},
   "outputs": [
    {
     "data": {
      "text/plain": [
       "<matplotlib.figure.Figure at 0x17768fc59e8>"
      ]
     },
     "metadata": {},
     "output_type": "display_data"
    },
    {
     "data": {
      "image/png": "[encoded data removed]",
      "text/plain": [
       "<matplotlib.figure.Figure at 0x177690b0048>"
      ]
     },
     "metadata": {},
     "output_type": "display_data"
    }
   ],
   "source": [
    "plt.bar(x1,y)\n",
    "#plt.xticks(x1,x,rotation=45,fontsize=20)\n",
    "plt.show()"
   ]
  },
  {
   "cell_type": "markdown",
   "metadata": {},
   "source": [
    "##  Histogram"
   ]
  },
  {
   "cell_type": "code",
   "execution_count": 478,
   "metadata": {},
   "outputs": [
    {
     "data": {
      "image/png": "[encoded data removed]",
      "text/plain": [
       "<matplotlib.figure.Figure at 0x17769542198>"
      ]
     },
     "metadata": {},
     "output_type": "display_data"
    }
   ],
   "source": [
    "#histogram on roads\n",
    "#historgram on normal distributed data \n",
    "# data mu plus sigma*random 10,000 points, ec= black option\n",
    "\n",
    "plt.figure(figsize=(10,10))\n",
    "mu, sigma = 0, 1\n",
    "x = mu + sigma*np.random.randn(10000)\n",
    "plt.hist(x,20,alpha=0.75,histtype='bar',ec='black')\n",
    "plt.show()"
   ]
  }
 ],
 "metadata": {
  "kernelspec": {
   "display_name": "Python 3",
   "language": "python",
   "name": "python3"
  },
  "language_info": {
   "codemirror_mode": {
    "name": "ipython",
    "version": 3
   },
   "file_extension": ".py",
   "mimetype": "text/x-python",
   "name": "python",
   "nbconvert_exporter": "python",
   "pygments_lexer": "ipython3",
   "version": "3.6.2"
  }
 },
 "nbformat": 4,
 "nbformat_minor": 2
}
